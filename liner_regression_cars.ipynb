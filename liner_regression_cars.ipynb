{
  "nbformat": 4,
  "nbformat_minor": 0,
  "metadata": {
    "colab": {
      "provenance": [],
      "authorship_tag": "ABX9TyO2UjOzwEGXQR5tnKOMNVDJ",
      "include_colab_link": true
    },
    "kernelspec": {
      "name": "python3",
      "display_name": "Python 3"
    },
    "language_info": {
      "name": "python"
    },
    "accelerator": "GPU",
    "gpuClass": "standard"
  },
  "cells": [
    {
      "cell_type": "markdown",
      "metadata": {
        "id": "view-in-github",
        "colab_type": "text"
      },
      "source": [
        "<a href=\"https://colab.research.google.com/github/etgcrog/rede-nerural/blob/Categorical/liner_regression_cars.ipynb\" target=\"_parent\"><img src=\"https://colab.research.google.com/assets/colab-badge.svg\" alt=\"Open In Colab\"/></a>"
      ]
    },
    {
      "cell_type": "code",
      "execution_count": 44,
      "metadata": {
        "id": "TQN1UpTKiAPx"
      },
      "outputs": [],
      "source": [
        "import pandas as pd\n",
        "import numpy as np\n",
        "from sklearn.preprocessing import LabelEncoder, OneHotEncoder"
      ]
    },
    {
      "cell_type": "code",
      "source": [
        "cars = pd.read_csv(\"/content/autos.csv\", \n",
        "                   sep=',', \n",
        "                   on_bad_lines='skip',\n",
        "                   encoding='ISO-8859-1',\n",
        "                   )"
      ],
      "metadata": {
        "colab": {
          "base_uri": "https://localhost:8080/"
        },
        "id": "1sLsO4EmlLSp",
        "outputId": "a30f3c38-28fe-4502-dd8b-f689ed373510"
      },
      "execution_count": 98,
      "outputs": [
        {
          "output_type": "stream",
          "name": "stderr",
          "text": [
            "/usr/local/lib/python3.8/dist-packages/IPython/core/interactiveshell.py:3326: DtypeWarning: Columns (4,7,9,11,12,17,18) have mixed types.Specify dtype option on import or set low_memory=False.\n",
            "  exec(code_obj, self.user_global_ns, self.user_ns)\n"
          ]
        }
      ]
    },
    {
      "cell_type": "code",
      "source": [
        "#tratamento de dados\n",
        "cars.drop(['name','dateCrawled', 'offerType', 'abtest', 'yearOfRegistration', 'brand', 'notRepairedDamage', 'notRepairedDamage', 'nrOfPictures',\t'postalCode',\t'lastSeen', 'dateCreated'],axis=1, inplace=True)"
      ],
      "metadata": {
        "id": "luRXEpX1lPC_"
      },
      "execution_count": 99,
      "outputs": []
    },
    {
      "cell_type": "code",
      "source": [
        "cars = cars.apply(pd.to_numeric, errors='coerce')\n",
        "cars.dropna(inplace=True)"
      ],
      "metadata": {
        "id": "05Zvml8WsTN5"
      },
      "execution_count": 104,
      "outputs": []
    },
    {
      "cell_type": "code",
      "source": [
        "prices = np.array(cars.price, dtype='float64')"
      ],
      "metadata": {
        "id": "JoUKbScOrpWG"
      },
      "execution_count": 105,
      "outputs": []
    },
    {
      "cell_type": "code",
      "source": [
        "prices"
      ],
      "metadata": {
        "colab": {
          "base_uri": "https://localhost:8080/"
        },
        "id": "2n0ZsCAft0fK",
        "outputId": "4e823873-7b0c-432f-ed80-404da4250d0f"
      },
      "execution_count": 107,
      "outputs": [
        {
          "output_type": "execute_result",
          "data": {
            "text/plain": [
              "array([], dtype=float64)"
            ]
          },
          "metadata": {},
          "execution_count": 107
        }
      ]
    },
    {
      "cell_type": "code",
      "source": [
        "x = cars.drop('price', axis=1)\n",
        "y = cars['price']"
      ],
      "metadata": {
        "id": "VrYr8o0WmgCd"
      },
      "execution_count": 40,
      "outputs": []
    },
    {
      "cell_type": "code",
      "source": [
        "x['gearbox'] = x['gearbox'].fillna('manuell')\n",
        "x = x.query('gearbox == \"manuell\" or gearbox == \"automatik\"')\n",
        "# for column in cars.columns:\n",
        "label_encoder = LabelEncoder()\n",
        "cars['gearbox'] = label_encoder.fit_transform(cars['gearbox'])"
      ],
      "metadata": {
        "id": "ggEDkkAEpnEl"
      },
      "execution_count": 59,
      "outputs": []
    },
    {
      "cell_type": "code",
      "source": [
        "x['gearbox'].value_counts()"
      ],
      "metadata": {
        "colab": {
          "base_uri": "https://localhost:8080/"
        },
        "id": "dF4AP0A7pd2r",
        "outputId": "510d03b5-b1ed-4a67-e740-8f9987707919"
      },
      "execution_count": 68,
      "outputs": [
        {
          "output_type": "execute_result",
          "data": {
            "text/plain": [
              "manuell      575310\n",
              "automatik    150734\n",
              "Name: gearbox, dtype: int64"
            ]
          },
          "metadata": {},
          "execution_count": 68
        }
      ]
    },
    {
      "cell_type": "code",
      "source": [
        "x"
      ],
      "metadata": {
        "colab": {
          "base_uri": "https://localhost:8080/",
          "height": 424
        },
        "id": "5ON_GPwlrOxF",
        "outputId": "285a8d8e-2586-4f1f-c921-41353842fcab"
      },
      "execution_count": 67,
      "outputs": [
        {
          "output_type": "execute_result",
          "data": {
            "text/plain": [
              "        seller vehicleType    gearbox powerPS        model kilometer  \\\n",
              "0       privat         NaN    manuell     0.0         golf  150000.0   \n",
              "1       privat       coupe    manuell   190.0          NaN  125000.0   \n",
              "2       privat         suv  automatik   163.0        grand  125000.0   \n",
              "3       privat  kleinwagen    manuell    75.0         golf  150000.0   \n",
              "4       privat  kleinwagen    manuell    69.0        fabia   90000.0   \n",
              "...        ...         ...        ...     ...          ...       ...   \n",
              "726059  privat         NaN    manuell       0          NaN     20000   \n",
              "726060  privat      cabrio  automatik     101       fortwo    125000   \n",
              "726061  privat         bus    manuell     102  transporter    150000   \n",
              "726062  privat       kombi    manuell     100         golf    150000   \n",
              "726063  privat   limousine    manuell     320      m_reihe     50000   \n",
              "\n",
              "       monthOfRegistration fuelType  \n",
              "0                      0.0   benzin  \n",
              "1                      5.0   diesel  \n",
              "2                      8.0   diesel  \n",
              "3                      6.0   benzin  \n",
              "4                      7.0   diesel  \n",
              "...                    ...      ...  \n",
              "726059                   1      NaN  \n",
              "726060                   3   benzin  \n",
              "726061                   3   diesel  \n",
              "726062                   6   diesel  \n",
              "726063                   8   benzin  \n",
              "\n",
              "[726044 rows x 8 columns]"
            ],
            "text/html": [
              "\n",
              "  <div id=\"df-afa74bd1-bf8b-4a29-8e32-e616284f99f2\">\n",
              "    <div class=\"colab-df-container\">\n",
              "      <div>\n",
              "<style scoped>\n",
              "    .dataframe tbody tr th:only-of-type {\n",
              "        vertical-align: middle;\n",
              "    }\n",
              "\n",
              "    .dataframe tbody tr th {\n",
              "        vertical-align: top;\n",
              "    }\n",
              "\n",
              "    .dataframe thead th {\n",
              "        text-align: right;\n",
              "    }\n",
              "</style>\n",
              "<table border=\"1\" class=\"dataframe\">\n",
              "  <thead>\n",
              "    <tr style=\"text-align: right;\">\n",
              "      <th></th>\n",
              "      <th>seller</th>\n",
              "      <th>vehicleType</th>\n",
              "      <th>gearbox</th>\n",
              "      <th>powerPS</th>\n",
              "      <th>model</th>\n",
              "      <th>kilometer</th>\n",
              "      <th>monthOfRegistration</th>\n",
              "      <th>fuelType</th>\n",
              "    </tr>\n",
              "  </thead>\n",
              "  <tbody>\n",
              "    <tr>\n",
              "      <th>0</th>\n",
              "      <td>privat</td>\n",
              "      <td>NaN</td>\n",
              "      <td>manuell</td>\n",
              "      <td>0.0</td>\n",
              "      <td>golf</td>\n",
              "      <td>150000.0</td>\n",
              "      <td>0.0</td>\n",
              "      <td>benzin</td>\n",
              "    </tr>\n",
              "    <tr>\n",
              "      <th>1</th>\n",
              "      <td>privat</td>\n",
              "      <td>coupe</td>\n",
              "      <td>manuell</td>\n",
              "      <td>190.0</td>\n",
              "      <td>NaN</td>\n",
              "      <td>125000.0</td>\n",
              "      <td>5.0</td>\n",
              "      <td>diesel</td>\n",
              "    </tr>\n",
              "    <tr>\n",
              "      <th>2</th>\n",
              "      <td>privat</td>\n",
              "      <td>suv</td>\n",
              "      <td>automatik</td>\n",
              "      <td>163.0</td>\n",
              "      <td>grand</td>\n",
              "      <td>125000.0</td>\n",
              "      <td>8.0</td>\n",
              "      <td>diesel</td>\n",
              "    </tr>\n",
              "    <tr>\n",
              "      <th>3</th>\n",
              "      <td>privat</td>\n",
              "      <td>kleinwagen</td>\n",
              "      <td>manuell</td>\n",
              "      <td>75.0</td>\n",
              "      <td>golf</td>\n",
              "      <td>150000.0</td>\n",
              "      <td>6.0</td>\n",
              "      <td>benzin</td>\n",
              "    </tr>\n",
              "    <tr>\n",
              "      <th>4</th>\n",
              "      <td>privat</td>\n",
              "      <td>kleinwagen</td>\n",
              "      <td>manuell</td>\n",
              "      <td>69.0</td>\n",
              "      <td>fabia</td>\n",
              "      <td>90000.0</td>\n",
              "      <td>7.0</td>\n",
              "      <td>diesel</td>\n",
              "    </tr>\n",
              "    <tr>\n",
              "      <th>...</th>\n",
              "      <td>...</td>\n",
              "      <td>...</td>\n",
              "      <td>...</td>\n",
              "      <td>...</td>\n",
              "      <td>...</td>\n",
              "      <td>...</td>\n",
              "      <td>...</td>\n",
              "      <td>...</td>\n",
              "    </tr>\n",
              "    <tr>\n",
              "      <th>726059</th>\n",
              "      <td>privat</td>\n",
              "      <td>NaN</td>\n",
              "      <td>manuell</td>\n",
              "      <td>0</td>\n",
              "      <td>NaN</td>\n",
              "      <td>20000</td>\n",
              "      <td>1</td>\n",
              "      <td>NaN</td>\n",
              "    </tr>\n",
              "    <tr>\n",
              "      <th>726060</th>\n",
              "      <td>privat</td>\n",
              "      <td>cabrio</td>\n",
              "      <td>automatik</td>\n",
              "      <td>101</td>\n",
              "      <td>fortwo</td>\n",
              "      <td>125000</td>\n",
              "      <td>3</td>\n",
              "      <td>benzin</td>\n",
              "    </tr>\n",
              "    <tr>\n",
              "      <th>726061</th>\n",
              "      <td>privat</td>\n",
              "      <td>bus</td>\n",
              "      <td>manuell</td>\n",
              "      <td>102</td>\n",
              "      <td>transporter</td>\n",
              "      <td>150000</td>\n",
              "      <td>3</td>\n",
              "      <td>diesel</td>\n",
              "    </tr>\n",
              "    <tr>\n",
              "      <th>726062</th>\n",
              "      <td>privat</td>\n",
              "      <td>kombi</td>\n",
              "      <td>manuell</td>\n",
              "      <td>100</td>\n",
              "      <td>golf</td>\n",
              "      <td>150000</td>\n",
              "      <td>6</td>\n",
              "      <td>diesel</td>\n",
              "    </tr>\n",
              "    <tr>\n",
              "      <th>726063</th>\n",
              "      <td>privat</td>\n",
              "      <td>limousine</td>\n",
              "      <td>manuell</td>\n",
              "      <td>320</td>\n",
              "      <td>m_reihe</td>\n",
              "      <td>50000</td>\n",
              "      <td>8</td>\n",
              "      <td>benzin</td>\n",
              "    </tr>\n",
              "  </tbody>\n",
              "</table>\n",
              "<p>726044 rows × 8 columns</p>\n",
              "</div>\n",
              "      <button class=\"colab-df-convert\" onclick=\"convertToInteractive('df-afa74bd1-bf8b-4a29-8e32-e616284f99f2')\"\n",
              "              title=\"Convert this dataframe to an interactive table.\"\n",
              "              style=\"display:none;\">\n",
              "        \n",
              "  <svg xmlns=\"http://www.w3.org/2000/svg\" height=\"24px\"viewBox=\"0 0 24 24\"\n",
              "       width=\"24px\">\n",
              "    <path d=\"M0 0h24v24H0V0z\" fill=\"none\"/>\n",
              "    <path d=\"M18.56 5.44l.94 2.06.94-2.06 2.06-.94-2.06-.94-.94-2.06-.94 2.06-2.06.94zm-11 1L8.5 8.5l.94-2.06 2.06-.94-2.06-.94L8.5 2.5l-.94 2.06-2.06.94zm10 10l.94 2.06.94-2.06 2.06-.94-2.06-.94-.94-2.06-.94 2.06-2.06.94z\"/><path d=\"M17.41 7.96l-1.37-1.37c-.4-.4-.92-.59-1.43-.59-.52 0-1.04.2-1.43.59L10.3 9.45l-7.72 7.72c-.78.78-.78 2.05 0 2.83L4 21.41c.39.39.9.59 1.41.59.51 0 1.02-.2 1.41-.59l7.78-7.78 2.81-2.81c.8-.78.8-2.07 0-2.86zM5.41 20L4 18.59l7.72-7.72 1.47 1.35L5.41 20z\"/>\n",
              "  </svg>\n",
              "      </button>\n",
              "      \n",
              "  <style>\n",
              "    .colab-df-container {\n",
              "      display:flex;\n",
              "      flex-wrap:wrap;\n",
              "      gap: 12px;\n",
              "    }\n",
              "\n",
              "    .colab-df-convert {\n",
              "      background-color: #E8F0FE;\n",
              "      border: none;\n",
              "      border-radius: 50%;\n",
              "      cursor: pointer;\n",
              "      display: none;\n",
              "      fill: #1967D2;\n",
              "      height: 32px;\n",
              "      padding: 0 0 0 0;\n",
              "      width: 32px;\n",
              "    }\n",
              "\n",
              "    .colab-df-convert:hover {\n",
              "      background-color: #E2EBFA;\n",
              "      box-shadow: 0px 1px 2px rgba(60, 64, 67, 0.3), 0px 1px 3px 1px rgba(60, 64, 67, 0.15);\n",
              "      fill: #174EA6;\n",
              "    }\n",
              "\n",
              "    [theme=dark] .colab-df-convert {\n",
              "      background-color: #3B4455;\n",
              "      fill: #D2E3FC;\n",
              "    }\n",
              "\n",
              "    [theme=dark] .colab-df-convert:hover {\n",
              "      background-color: #434B5C;\n",
              "      box-shadow: 0px 1px 3px 1px rgba(0, 0, 0, 0.15);\n",
              "      filter: drop-shadow(0px 1px 2px rgba(0, 0, 0, 0.3));\n",
              "      fill: #FFFFFF;\n",
              "    }\n",
              "  </style>\n",
              "\n",
              "      <script>\n",
              "        const buttonEl =\n",
              "          document.querySelector('#df-afa74bd1-bf8b-4a29-8e32-e616284f99f2 button.colab-df-convert');\n",
              "        buttonEl.style.display =\n",
              "          google.colab.kernel.accessAllowed ? 'block' : 'none';\n",
              "\n",
              "        async function convertToInteractive(key) {\n",
              "          const element = document.querySelector('#df-afa74bd1-bf8b-4a29-8e32-e616284f99f2');\n",
              "          const dataTable =\n",
              "            await google.colab.kernel.invokeFunction('convertToInteractive',\n",
              "                                                     [key], {});\n",
              "          if (!dataTable) return;\n",
              "\n",
              "          const docLinkHtml = 'Like what you see? Visit the ' +\n",
              "            '<a target=\"_blank\" href=https://colab.research.google.com/notebooks/data_table.ipynb>data table notebook</a>'\n",
              "            + ' to learn more about interactive tables.';\n",
              "          element.innerHTML = '';\n",
              "          dataTable['output_type'] = 'display_data';\n",
              "          await google.colab.output.renderOutput(dataTable, element);\n",
              "          const docLink = document.createElement('div');\n",
              "          docLink.innerHTML = docLinkHtml;\n",
              "          element.appendChild(docLink);\n",
              "        }\n",
              "      </script>\n",
              "    </div>\n",
              "  </div>\n",
              "  "
            ]
          },
          "metadata": {},
          "execution_count": 67
        }
      ]
    },
    {
      "cell_type": "code",
      "source": [],
      "metadata": {
        "id": "NFa4lgiPoRkt"
      },
      "execution_count": 66,
      "outputs": []
    },
    {
      "cell_type": "code",
      "source": [],
      "metadata": {
        "id": "fZ9_J0iToyZd"
      },
      "execution_count": null,
      "outputs": []
    }
  ]
}