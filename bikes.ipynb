{
  "nbformat": 4,
  "nbformat_minor": 0,
  "metadata": {
    "colab": {
      "provenance": [],
      "authorship_tag": "ABX9TyMEoH0Cwm/FaGVBXzms3n1L",
      "include_colab_link": true
    },
    "kernelspec": {
      "name": "python3",
      "display_name": "Python 3"
    },
    "language_info": {
      "name": "python"
    }
  },
  "cells": [
    {
      "cell_type": "markdown",
      "metadata": {
        "id": "view-in-github",
        "colab_type": "text"
      },
      "source": [
        "<a href=\"https://colab.research.google.com/github/etgcrog/rede-nerural/blob/master/bikes.ipynb\" target=\"_parent\"><img src=\"https://colab.research.google.com/assets/colab-badge.svg\" alt=\"Open In Colab\"/></a>"
      ]
    },
    {
      "cell_type": "code",
      "execution_count": 167,
      "metadata": {
        "id": "P9G5OQ-bfcs5",
        "colab": {
          "base_uri": "https://localhost:8080/"
        },
        "outputId": "f46eab18-bf07-45e8-fe45-740972b74e86"
      },
      "outputs": [
        {
          "output_type": "stream",
          "name": "stdout",
          "text": [
            "Colab only includes TensorFlow 2.x; %tensorflow_version has no effect.\n"
          ]
        }
      ],
      "source": [
        "%tensorflow_version 2.x\n",
        "\n",
        "import tensorflow as tf\n",
        "import pandas as pd\n",
        "import numpy as np\n",
        "import seaborn as sns\n",
        "import matplotlib.pyplot as plt\n",
        "\n",
        "from sklearn.preprocessing import OneHotEncoder, MinMaxScaler\n",
        "from sklearn.model_selection import train_test_split\n",
        "\n",
        "from sklearn.metrics import r2_score, mean_squared_error, mean_absolute_error\n",
        "from math import sqrt"
      ]
    },
    {
      "cell_type": "code",
      "source": [
        "df = pd.read_csv(\"day.csv\")"
      ],
      "metadata": {
        "id": "ihj0XoL83NGF"
      },
      "execution_count": 168,
      "outputs": []
    },
    {
      "cell_type": "code",
      "source": [
        "df.info()"
      ],
      "metadata": {
        "colab": {
          "base_uri": "https://localhost:8080/"
        },
        "id": "6ayI5sYl3pP5",
        "outputId": "68e8e80e-27da-4e1c-e17e-0c81a7222f47"
      },
      "execution_count": 169,
      "outputs": [
        {
          "output_type": "stream",
          "name": "stdout",
          "text": [
            "<class 'pandas.core.frame.DataFrame'>\n",
            "RangeIndex: 731 entries, 0 to 730\n",
            "Data columns (total 16 columns):\n",
            " #   Column      Non-Null Count  Dtype  \n",
            "---  ------      --------------  -----  \n",
            " 0   instant     731 non-null    int64  \n",
            " 1   dteday      731 non-null    object \n",
            " 2   season      731 non-null    int64  \n",
            " 3   yr          731 non-null    int64  \n",
            " 4   mnth        731 non-null    int64  \n",
            " 5   holiday     731 non-null    int64  \n",
            " 6   weekday     731 non-null    int64  \n",
            " 7   workingday  731 non-null    int64  \n",
            " 8   weathersit  731 non-null    int64  \n",
            " 9   temp        731 non-null    float64\n",
            " 10  atemp       731 non-null    float64\n",
            " 11  hum         731 non-null    float64\n",
            " 12  windspeed   731 non-null    float64\n",
            " 13  casual      731 non-null    int64  \n",
            " 14  registered  731 non-null    int64  \n",
            " 15  cnt         731 non-null    int64  \n",
            "dtypes: float64(4), int64(11), object(1)\n",
            "memory usage: 91.5+ KB\n"
          ]
        }
      ]
    },
    {
      "cell_type": "code",
      "source": [
        "df.head()"
      ],
      "metadata": {
        "colab": {
          "base_uri": "https://localhost:8080/",
          "height": 357
        },
        "id": "K4ImpKkk3tEs",
        "outputId": "0f02aa7a-a406-4944-8846-34a0f1b2cedd"
      },
      "execution_count": 170,
      "outputs": [
        {
          "output_type": "execute_result",
          "data": {
            "text/plain": [
              "   instant      dteday  season  yr  mnth  holiday  weekday  workingday  \\\n",
              "0        1  2011-01-01       1   0     1        0        6           0   \n",
              "1        2  2011-01-02       1   0     1        0        0           0   \n",
              "2        3  2011-01-03       1   0     1        0        1           1   \n",
              "3        4  2011-01-04       1   0     1        0        2           1   \n",
              "4        5  2011-01-05       1   0     1        0        3           1   \n",
              "\n",
              "   weathersit      temp     atemp       hum  windspeed  casual  registered  \\\n",
              "0           2  0.344167  0.363625  0.805833   0.160446     331         654   \n",
              "1           2  0.363478  0.353739  0.696087   0.248539     131         670   \n",
              "2           1  0.196364  0.189405  0.437273   0.248309     120        1229   \n",
              "3           1  0.200000  0.212122  0.590435   0.160296     108        1454   \n",
              "4           1  0.226957  0.229270  0.436957   0.186900      82        1518   \n",
              "\n",
              "    cnt  \n",
              "0   985  \n",
              "1   801  \n",
              "2  1349  \n",
              "3  1562  \n",
              "4  1600  "
            ],
            "text/html": [
              "\n",
              "  <div id=\"df-40b7bcdd-2073-4eae-8d58-e20b5d7b6cfa\">\n",
              "    <div class=\"colab-df-container\">\n",
              "      <div>\n",
              "<style scoped>\n",
              "    .dataframe tbody tr th:only-of-type {\n",
              "        vertical-align: middle;\n",
              "    }\n",
              "\n",
              "    .dataframe tbody tr th {\n",
              "        vertical-align: top;\n",
              "    }\n",
              "\n",
              "    .dataframe thead th {\n",
              "        text-align: right;\n",
              "    }\n",
              "</style>\n",
              "<table border=\"1\" class=\"dataframe\">\n",
              "  <thead>\n",
              "    <tr style=\"text-align: right;\">\n",
              "      <th></th>\n",
              "      <th>instant</th>\n",
              "      <th>dteday</th>\n",
              "      <th>season</th>\n",
              "      <th>yr</th>\n",
              "      <th>mnth</th>\n",
              "      <th>holiday</th>\n",
              "      <th>weekday</th>\n",
              "      <th>workingday</th>\n",
              "      <th>weathersit</th>\n",
              "      <th>temp</th>\n",
              "      <th>atemp</th>\n",
              "      <th>hum</th>\n",
              "      <th>windspeed</th>\n",
              "      <th>casual</th>\n",
              "      <th>registered</th>\n",
              "      <th>cnt</th>\n",
              "    </tr>\n",
              "  </thead>\n",
              "  <tbody>\n",
              "    <tr>\n",
              "      <th>0</th>\n",
              "      <td>1</td>\n",
              "      <td>2011-01-01</td>\n",
              "      <td>1</td>\n",
              "      <td>0</td>\n",
              "      <td>1</td>\n",
              "      <td>0</td>\n",
              "      <td>6</td>\n",
              "      <td>0</td>\n",
              "      <td>2</td>\n",
              "      <td>0.344167</td>\n",
              "      <td>0.363625</td>\n",
              "      <td>0.805833</td>\n",
              "      <td>0.160446</td>\n",
              "      <td>331</td>\n",
              "      <td>654</td>\n",
              "      <td>985</td>\n",
              "    </tr>\n",
              "    <tr>\n",
              "      <th>1</th>\n",
              "      <td>2</td>\n",
              "      <td>2011-01-02</td>\n",
              "      <td>1</td>\n",
              "      <td>0</td>\n",
              "      <td>1</td>\n",
              "      <td>0</td>\n",
              "      <td>0</td>\n",
              "      <td>0</td>\n",
              "      <td>2</td>\n",
              "      <td>0.363478</td>\n",
              "      <td>0.353739</td>\n",
              "      <td>0.696087</td>\n",
              "      <td>0.248539</td>\n",
              "      <td>131</td>\n",
              "      <td>670</td>\n",
              "      <td>801</td>\n",
              "    </tr>\n",
              "    <tr>\n",
              "      <th>2</th>\n",
              "      <td>3</td>\n",
              "      <td>2011-01-03</td>\n",
              "      <td>1</td>\n",
              "      <td>0</td>\n",
              "      <td>1</td>\n",
              "      <td>0</td>\n",
              "      <td>1</td>\n",
              "      <td>1</td>\n",
              "      <td>1</td>\n",
              "      <td>0.196364</td>\n",
              "      <td>0.189405</td>\n",
              "      <td>0.437273</td>\n",
              "      <td>0.248309</td>\n",
              "      <td>120</td>\n",
              "      <td>1229</td>\n",
              "      <td>1349</td>\n",
              "    </tr>\n",
              "    <tr>\n",
              "      <th>3</th>\n",
              "      <td>4</td>\n",
              "      <td>2011-01-04</td>\n",
              "      <td>1</td>\n",
              "      <td>0</td>\n",
              "      <td>1</td>\n",
              "      <td>0</td>\n",
              "      <td>2</td>\n",
              "      <td>1</td>\n",
              "      <td>1</td>\n",
              "      <td>0.200000</td>\n",
              "      <td>0.212122</td>\n",
              "      <td>0.590435</td>\n",
              "      <td>0.160296</td>\n",
              "      <td>108</td>\n",
              "      <td>1454</td>\n",
              "      <td>1562</td>\n",
              "    </tr>\n",
              "    <tr>\n",
              "      <th>4</th>\n",
              "      <td>5</td>\n",
              "      <td>2011-01-05</td>\n",
              "      <td>1</td>\n",
              "      <td>0</td>\n",
              "      <td>1</td>\n",
              "      <td>0</td>\n",
              "      <td>3</td>\n",
              "      <td>1</td>\n",
              "      <td>1</td>\n",
              "      <td>0.226957</td>\n",
              "      <td>0.229270</td>\n",
              "      <td>0.436957</td>\n",
              "      <td>0.186900</td>\n",
              "      <td>82</td>\n",
              "      <td>1518</td>\n",
              "      <td>1600</td>\n",
              "    </tr>\n",
              "  </tbody>\n",
              "</table>\n",
              "</div>\n",
              "      <button class=\"colab-df-convert\" onclick=\"convertToInteractive('df-40b7bcdd-2073-4eae-8d58-e20b5d7b6cfa')\"\n",
              "              title=\"Convert this dataframe to an interactive table.\"\n",
              "              style=\"display:none;\">\n",
              "        \n",
              "  <svg xmlns=\"http://www.w3.org/2000/svg\" height=\"24px\"viewBox=\"0 0 24 24\"\n",
              "       width=\"24px\">\n",
              "    <path d=\"M0 0h24v24H0V0z\" fill=\"none\"/>\n",
              "    <path d=\"M18.56 5.44l.94 2.06.94-2.06 2.06-.94-2.06-.94-.94-2.06-.94 2.06-2.06.94zm-11 1L8.5 8.5l.94-2.06 2.06-.94-2.06-.94L8.5 2.5l-.94 2.06-2.06.94zm10 10l.94 2.06.94-2.06 2.06-.94-2.06-.94-.94-2.06-.94 2.06-2.06.94z\"/><path d=\"M17.41 7.96l-1.37-1.37c-.4-.4-.92-.59-1.43-.59-.52 0-1.04.2-1.43.59L10.3 9.45l-7.72 7.72c-.78.78-.78 2.05 0 2.83L4 21.41c.39.39.9.59 1.41.59.51 0 1.02-.2 1.41-.59l7.78-7.78 2.81-2.81c.8-.78.8-2.07 0-2.86zM5.41 20L4 18.59l7.72-7.72 1.47 1.35L5.41 20z\"/>\n",
              "  </svg>\n",
              "      </button>\n",
              "      \n",
              "  <style>\n",
              "    .colab-df-container {\n",
              "      display:flex;\n",
              "      flex-wrap:wrap;\n",
              "      gap: 12px;\n",
              "    }\n",
              "\n",
              "    .colab-df-convert {\n",
              "      background-color: #E8F0FE;\n",
              "      border: none;\n",
              "      border-radius: 50%;\n",
              "      cursor: pointer;\n",
              "      display: none;\n",
              "      fill: #1967D2;\n",
              "      height: 32px;\n",
              "      padding: 0 0 0 0;\n",
              "      width: 32px;\n",
              "    }\n",
              "\n",
              "    .colab-df-convert:hover {\n",
              "      background-color: #E2EBFA;\n",
              "      box-shadow: 0px 1px 2px rgba(60, 64, 67, 0.3), 0px 1px 3px 1px rgba(60, 64, 67, 0.15);\n",
              "      fill: #174EA6;\n",
              "    }\n",
              "\n",
              "    [theme=dark] .colab-df-convert {\n",
              "      background-color: #3B4455;\n",
              "      fill: #D2E3FC;\n",
              "    }\n",
              "\n",
              "    [theme=dark] .colab-df-convert:hover {\n",
              "      background-color: #434B5C;\n",
              "      box-shadow: 0px 1px 3px 1px rgba(0, 0, 0, 0.15);\n",
              "      filter: drop-shadow(0px 1px 2px rgba(0, 0, 0, 0.3));\n",
              "      fill: #FFFFFF;\n",
              "    }\n",
              "  </style>\n",
              "\n",
              "      <script>\n",
              "        const buttonEl =\n",
              "          document.querySelector('#df-40b7bcdd-2073-4eae-8d58-e20b5d7b6cfa button.colab-df-convert');\n",
              "        buttonEl.style.display =\n",
              "          google.colab.kernel.accessAllowed ? 'block' : 'none';\n",
              "\n",
              "        async function convertToInteractive(key) {\n",
              "          const element = document.querySelector('#df-40b7bcdd-2073-4eae-8d58-e20b5d7b6cfa');\n",
              "          const dataTable =\n",
              "            await google.colab.kernel.invokeFunction('convertToInteractive',\n",
              "                                                     [key], {});\n",
              "          if (!dataTable) return;\n",
              "\n",
              "          const docLinkHtml = 'Like what you see? Visit the ' +\n",
              "            '<a target=\"_blank\" href=https://colab.research.google.com/notebooks/data_table.ipynb>data table notebook</a>'\n",
              "            + ' to learn more about interactive tables.';\n",
              "          element.innerHTML = '';\n",
              "          dataTable['output_type'] = 'display_data';\n",
              "          await google.colab.output.renderOutput(dataTable, element);\n",
              "          const docLink = document.createElement('div');\n",
              "          docLink.innerHTML = docLinkHtml;\n",
              "          element.appendChild(docLink);\n",
              "        }\n",
              "      </script>\n",
              "    </div>\n",
              "  </div>\n",
              "  "
            ]
          },
          "metadata": {},
          "execution_count": 170
        }
      ]
    },
    {
      "cell_type": "code",
      "source": [
        "df.drop(['instant', 'casual', 'registered', 'yr', 'mnth', 'holiday', 'weathersit'], axis=1, inplace=True)"
      ],
      "metadata": {
        "id": "jV34eaZY4-ra"
      },
      "execution_count": 171,
      "outputs": []
    },
    {
      "cell_type": "code",
      "source": [
        "df = df.set_index(pd.DatetimeIndex(df['dteday']))\n",
        "df.drop(['dteday'], axis=1, inplace=True)"
      ],
      "metadata": {
        "id": "EqP35L106MCA"
      },
      "execution_count": 172,
      "outputs": []
    },
    {
      "cell_type": "code",
      "source": [
        "plt.style.use(\"dark_background\")\n",
        "plt.figure(figsize=(12,8))\n",
        "sns.heatmap(df.corr(), annot=True)"
      ],
      "metadata": {
        "colab": {
          "base_uri": "https://localhost:8080/",
          "height": 700
        },
        "id": "xTIckviU5Euf",
        "outputId": "e0a8865f-c79c-49cb-98a5-b576853b5c21"
      },
      "execution_count": 173,
      "outputs": [
        {
          "output_type": "execute_result",
          "data": {
            "text/plain": [
              "<Axes: >"
            ]
          },
          "metadata": {},
          "execution_count": 173
        },
        {
          "output_type": "display_data",
          "data": {
            "text/plain": [
              "<Figure size 1200x800 with 2 Axes>"
            ],
            "image/png": "[encoded data removed]"
          },
          "metadata": {}
        }
      ]
    },
    {
      "cell_type": "code",
      "source": [
        "df['cnt'].asfreq('M').plot(linewidth=3)\n",
        "plt.title(\"Quantidade de Bikes por Mes\")\n",
        "plt.xlabel('Semana')\n",
        "plt.ylabel('Quantidade')"
      ],
      "metadata": {
        "colab": {
          "base_uri": "https://localhost:8080/",
          "height": 506
        },
        "id": "YHkI-EPG6HDW",
        "outputId": "6abef2fd-ec16-4e5b-ad8f-378d0d55483e"
      },
      "execution_count": 174,
      "outputs": [
        {
          "output_type": "execute_result",
          "data": {
            "text/plain": [
              "Text(0, 0.5, 'Quantidade')"
            ]
          },
          "metadata": {},
          "execution_count": 174
        },
        {
          "output_type": "display_data",
          "data": {
            "text/plain": [
              "<Figure size 640x480 with 1 Axes>"
            ],
            "image/png": "[encoded data removed]"
          },
          "metadata": {}
        }
      ]
    },
    {
      "cell_type": "code",
      "source": [
        "df.head()"
      ],
      "metadata": {
        "colab": {
          "base_uri": "https://localhost:8080/",
          "height": 237
        },
        "id": "ux7NruRi5RDE",
        "outputId": "8d66e512-5b47-48b1-be98-928e7346cd60"
      },
      "execution_count": 175,
      "outputs": [
        {
          "output_type": "execute_result",
          "data": {
            "text/plain": [
              "            season  weekday  workingday      temp     atemp       hum  \\\n",
              "dteday                                                                  \n",
              "2011-01-01       1        6           0  0.344167  0.363625  0.805833   \n",
              "2011-01-02       1        0           0  0.363478  0.353739  0.696087   \n",
              "2011-01-03       1        1           1  0.196364  0.189405  0.437273   \n",
              "2011-01-04       1        2           1  0.200000  0.212122  0.590435   \n",
              "2011-01-05       1        3           1  0.226957  0.229270  0.436957   \n",
              "\n",
              "            windspeed   cnt  \n",
              "dteday                       \n",
              "2011-01-01   0.160446   985  \n",
              "2011-01-02   0.248539   801  \n",
              "2011-01-03   0.248309  1349  \n",
              "2011-01-04   0.160296  1562  \n",
              "2011-01-05   0.186900  1600  "
            ],
            "text/html": [
              "\n",
              "  <div id=\"df-abaa998c-b1d9-4730-8bee-0e792cd77626\">\n",
              "    <div class=\"colab-df-container\">\n",
              "      <div>\n",
              "<style scoped>\n",
              "    .dataframe tbody tr th:only-of-type {\n",
              "        vertical-align: middle;\n",
              "    }\n",
              "\n",
              "    .dataframe tbody tr th {\n",
              "        vertical-align: top;\n",
              "    }\n",
              "\n",
              "    .dataframe thead th {\n",
              "        text-align: right;\n",
              "    }\n",
              "</style>\n",
              "<table border=\"1\" class=\"dataframe\">\n",
              "  <thead>\n",
              "    <tr style=\"text-align: right;\">\n",
              "      <th></th>\n",
              "      <th>season</th>\n",
              "      <th>weekday</th>\n",
              "      <th>workingday</th>\n",
              "      <th>temp</th>\n",
              "      <th>atemp</th>\n",
              "      <th>hum</th>\n",
              "      <th>windspeed</th>\n",
              "      <th>cnt</th>\n",
              "    </tr>\n",
              "    <tr>\n",
              "      <th>dteday</th>\n",
              "      <th></th>\n",
              "      <th></th>\n",
              "      <th></th>\n",
              "      <th></th>\n",
              "      <th></th>\n",
              "      <th></th>\n",
              "      <th></th>\n",
              "      <th></th>\n",
              "    </tr>\n",
              "  </thead>\n",
              "  <tbody>\n",
              "    <tr>\n",
              "      <th>2011-01-01</th>\n",
              "      <td>1</td>\n",
              "      <td>6</td>\n",
              "      <td>0</td>\n",
              "      <td>0.344167</td>\n",
              "      <td>0.363625</td>\n",
              "      <td>0.805833</td>\n",
              "      <td>0.160446</td>\n",
              "      <td>985</td>\n",
              "    </tr>\n",
              "    <tr>\n",
              "      <th>2011-01-02</th>\n",
              "      <td>1</td>\n",
              "      <td>0</td>\n",
              "      <td>0</td>\n",
              "      <td>0.363478</td>\n",
              "      <td>0.353739</td>\n",
              "      <td>0.696087</td>\n",
              "      <td>0.248539</td>\n",
              "      <td>801</td>\n",
              "    </tr>\n",
              "    <tr>\n",
              "      <th>2011-01-03</th>\n",
              "      <td>1</td>\n",
              "      <td>1</td>\n",
              "      <td>1</td>\n",
              "      <td>0.196364</td>\n",
              "      <td>0.189405</td>\n",
              "      <td>0.437273</td>\n",
              "      <td>0.248309</td>\n",
              "      <td>1349</td>\n",
              "    </tr>\n",
              "    <tr>\n",
              "      <th>2011-01-04</th>\n",
              "      <td>1</td>\n",
              "      <td>2</td>\n",
              "      <td>1</td>\n",
              "      <td>0.200000</td>\n",
              "      <td>0.212122</td>\n",
              "      <td>0.590435</td>\n",
              "      <td>0.160296</td>\n",
              "      <td>1562</td>\n",
              "    </tr>\n",
              "    <tr>\n",
              "      <th>2011-01-05</th>\n",
              "      <td>1</td>\n",
              "      <td>3</td>\n",
              "      <td>1</td>\n",
              "      <td>0.226957</td>\n",
              "      <td>0.229270</td>\n",
              "      <td>0.436957</td>\n",
              "      <td>0.186900</td>\n",
              "      <td>1600</td>\n",
              "    </tr>\n",
              "  </tbody>\n",
              "</table>\n",
              "</div>\n",
              "      <button class=\"colab-df-convert\" onclick=\"convertToInteractive('df-abaa998c-b1d9-4730-8bee-0e792cd77626')\"\n",
              "              title=\"Convert this dataframe to an interactive table.\"\n",
              "              style=\"display:none;\">\n",
              "        \n",
              "  <svg xmlns=\"http://www.w3.org/2000/svg\" height=\"24px\"viewBox=\"0 0 24 24\"\n",
              "       width=\"24px\">\n",
              "    <path d=\"M0 0h24v24H0V0z\" fill=\"none\"/>\n",
              "    <path d=\"M18.56 5.44l.94 2.06.94-2.06 2.06-.94-2.06-.94-.94-2.06-.94 2.06-2.06.94zm-11 1L8.5 8.5l.94-2.06 2.06-.94-2.06-.94L8.5 2.5l-.94 2.06-2.06.94zm10 10l.94 2.06.94-2.06 2.06-.94-2.06-.94-.94-2.06-.94 2.06-2.06.94z\"/><path d=\"M17.41 7.96l-1.37-1.37c-.4-.4-.92-.59-1.43-.59-.52 0-1.04.2-1.43.59L10.3 9.45l-7.72 7.72c-.78.78-.78 2.05 0 2.83L4 21.41c.39.39.9.59 1.41.59.51 0 1.02-.2 1.41-.59l7.78-7.78 2.81-2.81c.8-.78.8-2.07 0-2.86zM5.41 20L4 18.59l7.72-7.72 1.47 1.35L5.41 20z\"/>\n",
              "  </svg>\n",
              "      </button>\n",
              "      \n",
              "  <style>\n",
              "    .colab-df-container {\n",
              "      display:flex;\n",
              "      flex-wrap:wrap;\n",
              "      gap: 12px;\n",
              "    }\n",
              "\n",
              "    .colab-df-convert {\n",
              "      background-color: #E8F0FE;\n",
              "      border: none;\n",
              "      border-radius: 50%;\n",
              "      cursor: pointer;\n",
              "      display: none;\n",
              "      fill: #1967D2;\n",
              "      height: 32px;\n",
              "      padding: 0 0 0 0;\n",
              "      width: 32px;\n",
              "    }\n",
              "\n",
              "    .colab-df-convert:hover {\n",
              "      background-color: #E2EBFA;\n",
              "      box-shadow: 0px 1px 2px rgba(60, 64, 67, 0.3), 0px 1px 3px 1px rgba(60, 64, 67, 0.15);\n",
              "      fill: #174EA6;\n",
              "    }\n",
              "\n",
              "    [theme=dark] .colab-df-convert {\n",
              "      background-color: #3B4455;\n",
              "      fill: #D2E3FC;\n",
              "    }\n",
              "\n",
              "    [theme=dark] .colab-df-convert:hover {\n",
              "      background-color: #434B5C;\n",
              "      box-shadow: 0px 1px 3px 1px rgba(0, 0, 0, 0.15);\n",
              "      filter: drop-shadow(0px 1px 2px rgba(0, 0, 0, 0.3));\n",
              "      fill: #FFFFFF;\n",
              "    }\n",
              "  </style>\n",
              "\n",
              "      <script>\n",
              "        const buttonEl =\n",
              "          document.querySelector('#df-abaa998c-b1d9-4730-8bee-0e792cd77626 button.colab-df-convert');\n",
              "        buttonEl.style.display =\n",
              "          google.colab.kernel.accessAllowed ? 'block' : 'none';\n",
              "\n",
              "        async function convertToInteractive(key) {\n",
              "          const element = document.querySelector('#df-abaa998c-b1d9-4730-8bee-0e792cd77626');\n",
              "          const dataTable =\n",
              "            await google.colab.kernel.invokeFunction('convertToInteractive',\n",
              "                                                     [key], {});\n",
              "          if (!dataTable) return;\n",
              "\n",
              "          const docLinkHtml = 'Like what you see? Visit the ' +\n",
              "            '<a target=\"_blank\" href=https://colab.research.google.com/notebooks/data_table.ipynb>data table notebook</a>'\n",
              "            + ' to learn more about interactive tables.';\n",
              "          element.innerHTML = '';\n",
              "          dataTable['output_type'] = 'display_data';\n",
              "          await google.colab.output.renderOutput(dataTable, element);\n",
              "          const docLink = document.createElement('div');\n",
              "          docLink.innerHTML = docLinkHtml;\n",
              "          element.appendChild(docLink);\n",
              "        }\n",
              "      </script>\n",
              "    </div>\n",
              "  </div>\n",
              "  "
            ]
          },
          "metadata": {},
          "execution_count": 175
        }
      ]
    },
    {
      "cell_type": "code",
      "source": [
        "df['weekday'].value_counts()"
      ],
      "metadata": {
        "colab": {
          "base_uri": "https://localhost:8080/"
        },
        "id": "jOQHa-rG7qqf",
        "outputId": "02e52728-f46c-4fec-ef04-595b08bffc70"
      },
      "execution_count": 176,
      "outputs": [
        {
          "output_type": "execute_result",
          "data": {
            "text/plain": [
              "6    105\n",
              "0    105\n",
              "1    105\n",
              "2    104\n",
              "3    104\n",
              "4    104\n",
              "5    104\n",
              "Name: weekday, dtype: int64"
            ]
          },
          "metadata": {},
          "execution_count": 176
        }
      ]
    },
    {
      "cell_type": "code",
      "source": [
        "df_numerical = df[['temp', 'atemp', 'hum', 'windspeed', 'cnt']]\n",
        "df_categorical = df[['season', 'weekday']]"
      ],
      "metadata": {
        "id": "jOIZablZ5r1G"
      },
      "execution_count": 179,
      "outputs": []
    },
    {
      "cell_type": "code",
      "source": [
        "encoder = OneHotEncoder()\n",
        "encoded = encoder.fit_transform(df_categorical).toarray()"
      ],
      "metadata": {
        "id": "sBDBeBpX7xRj"
      },
      "execution_count": 180,
      "outputs": []
    },
    {
      "cell_type": "code",
      "source": [
        "df_numerical = df_numerical.reset_index()"
      ],
      "metadata": {
        "id": "Ipg4D8ZW9Nww"
      },
      "execution_count": 181,
      "outputs": []
    },
    {
      "cell_type": "code",
      "source": [
        "df_categorical = pd.DataFrame(encoded)\n",
        "\n",
        "df_final = pd.concat([df_categorical, df_numerical], axis=1)"
      ],
      "metadata": {
        "id": "QNhayfOi73b8"
      },
      "execution_count": 182,
      "outputs": []
    },
    {
      "cell_type": "code",
      "source": [
        "df_final.drop(\"dteday\", axis=1, inplace=True)"
      ],
      "metadata": {
        "id": "jdK8H-528m1b"
      },
      "execution_count": 183,
      "outputs": []
    },
    {
      "cell_type": "code",
      "source": [
        "df_final.head(2)"
      ],
      "metadata": {
        "colab": {
          "base_uri": "https://localhost:8080/",
          "height": 112
        },
        "id": "8yMU7JE99EjR",
        "outputId": "2d1045ef-5860-4e82-cc67-3498236bb1e6"
      },
      "execution_count": 184,
      "outputs": [
        {
          "output_type": "execute_result",
          "data": {
            "text/plain": [
              "     0    1    2    3    4    5    6    7    8    9   10      temp     atemp  \\\n",
              "0  1.0  0.0  0.0  0.0  0.0  0.0  0.0  0.0  0.0  0.0  1.0  0.344167  0.363625   \n",
              "1  1.0  0.0  0.0  0.0  1.0  0.0  0.0  0.0  0.0  0.0  0.0  0.363478  0.353739   \n",
              "\n",
              "        hum  windspeed  cnt  \n",
              "0  0.805833   0.160446  985  \n",
              "1  0.696087   0.248539  801  "
            ],
            "text/html": [
              "\n",
              "  <div id=\"df-d40f0193-6bd8-4887-8fb4-d9d3bf272539\">\n",
              "    <div class=\"colab-df-container\">\n",
              "      <div>\n",
              "<style scoped>\n",
              "    .dataframe tbody tr th:only-of-type {\n",
              "        vertical-align: middle;\n",
              "    }\n",
              "\n",
              "    .dataframe tbody tr th {\n",
              "        vertical-align: top;\n",
              "    }\n",
              "\n",
              "    .dataframe thead th {\n",
              "        text-align: right;\n",
              "    }\n",
              "</style>\n",
              "<table border=\"1\" class=\"dataframe\">\n",
              "  <thead>\n",
              "    <tr style=\"text-align: right;\">\n",
              "      <th></th>\n",
              "      <th>0</th>\n",
              "      <th>1</th>\n",
              "      <th>2</th>\n",
              "      <th>3</th>\n",
              "      <th>4</th>\n",
              "      <th>5</th>\n",
              "      <th>6</th>\n",
              "      <th>7</th>\n",
              "      <th>8</th>\n",
              "      <th>9</th>\n",
              "      <th>10</th>\n",
              "      <th>temp</th>\n",
              "      <th>atemp</th>\n",
              "      <th>hum</th>\n",
              "      <th>windspeed</th>\n",
              "      <th>cnt</th>\n",
              "    </tr>\n",
              "  </thead>\n",
              "  <tbody>\n",
              "    <tr>\n",
              "      <th>0</th>\n",
              "      <td>1.0</td>\n",
              "      <td>0.0</td>\n",
              "      <td>0.0</td>\n",
              "      <td>0.0</td>\n",
              "      <td>0.0</td>\n",
              "      <td>0.0</td>\n",
              "      <td>0.0</td>\n",
              "      <td>0.0</td>\n",
              "      <td>0.0</td>\n",
              "      <td>0.0</td>\n",
              "      <td>1.0</td>\n",
              "      <td>0.344167</td>\n",
              "      <td>0.363625</td>\n",
              "      <td>0.805833</td>\n",
              "      <td>0.160446</td>\n",
              "      <td>985</td>\n",
              "    </tr>\n",
              "    <tr>\n",
              "      <th>1</th>\n",
              "      <td>1.0</td>\n",
              "      <td>0.0</td>\n",
              "      <td>0.0</td>\n",
              "      <td>0.0</td>\n",
              "      <td>1.0</td>\n",
              "      <td>0.0</td>\n",
              "      <td>0.0</td>\n",
              "      <td>0.0</td>\n",
              "      <td>0.0</td>\n",
              "      <td>0.0</td>\n",
              "      <td>0.0</td>\n",
              "      <td>0.363478</td>\n",
              "      <td>0.353739</td>\n",
              "      <td>0.696087</td>\n",
              "      <td>0.248539</td>\n",
              "      <td>801</td>\n",
              "    </tr>\n",
              "  </tbody>\n",
              "</table>\n",
              "</div>\n",
              "      <button class=\"colab-df-convert\" onclick=\"convertToInteractive('df-d40f0193-6bd8-4887-8fb4-d9d3bf272539')\"\n",
              "              title=\"Convert this dataframe to an interactive table.\"\n",
              "              style=\"display:none;\">\n",
              "        \n",
              "  <svg xmlns=\"http://www.w3.org/2000/svg\" height=\"24px\"viewBox=\"0 0 24 24\"\n",
              "       width=\"24px\">\n",
              "    <path d=\"M0 0h24v24H0V0z\" fill=\"none\"/>\n",
              "    <path d=\"M18.56 5.44l.94 2.06.94-2.06 2.06-.94-2.06-.94-.94-2.06-.94 2.06-2.06.94zm-11 1L8.5 8.5l.94-2.06 2.06-.94-2.06-.94L8.5 2.5l-.94 2.06-2.06.94zm10 10l.94 2.06.94-2.06 2.06-.94-2.06-.94-.94-2.06-.94 2.06-2.06.94z\"/><path d=\"M17.41 7.96l-1.37-1.37c-.4-.4-.92-.59-1.43-.59-.52 0-1.04.2-1.43.59L10.3 9.45l-7.72 7.72c-.78.78-.78 2.05 0 2.83L4 21.41c.39.39.9.59 1.41.59.51 0 1.02-.2 1.41-.59l7.78-7.78 2.81-2.81c.8-.78.8-2.07 0-2.86zM5.41 20L4 18.59l7.72-7.72 1.47 1.35L5.41 20z\"/>\n",
              "  </svg>\n",
              "      </button>\n",
              "      \n",
              "  <style>\n",
              "    .colab-df-container {\n",
              "      display:flex;\n",
              "      flex-wrap:wrap;\n",
              "      gap: 12px;\n",
              "    }\n",
              "\n",
              "    .colab-df-convert {\n",
              "      background-color: #E8F0FE;\n",
              "      border: none;\n",
              "      border-radius: 50%;\n",
              "      cursor: pointer;\n",
              "      display: none;\n",
              "      fill: #1967D2;\n",
              "      height: 32px;\n",
              "      padding: 0 0 0 0;\n",
              "      width: 32px;\n",
              "    }\n",
              "\n",
              "    .colab-df-convert:hover {\n",
              "      background-color: #E2EBFA;\n",
              "      box-shadow: 0px 1px 2px rgba(60, 64, 67, 0.3), 0px 1px 3px 1px rgba(60, 64, 67, 0.15);\n",
              "      fill: #174EA6;\n",
              "    }\n",
              "\n",
              "    [theme=dark] .colab-df-convert {\n",
              "      background-color: #3B4455;\n",
              "      fill: #D2E3FC;\n",
              "    }\n",
              "\n",
              "    [theme=dark] .colab-df-convert:hover {\n",
              "      background-color: #434B5C;\n",
              "      box-shadow: 0px 1px 3px 1px rgba(0, 0, 0, 0.15);\n",
              "      filter: drop-shadow(0px 1px 2px rgba(0, 0, 0, 0.3));\n",
              "      fill: #FFFFFF;\n",
              "    }\n",
              "  </style>\n",
              "\n",
              "      <script>\n",
              "        const buttonEl =\n",
              "          document.querySelector('#df-d40f0193-6bd8-4887-8fb4-d9d3bf272539 button.colab-df-convert');\n",
              "        buttonEl.style.display =\n",
              "          google.colab.kernel.accessAllowed ? 'block' : 'none';\n",
              "\n",
              "        async function convertToInteractive(key) {\n",
              "          const element = document.querySelector('#df-d40f0193-6bd8-4887-8fb4-d9d3bf272539');\n",
              "          const dataTable =\n",
              "            await google.colab.kernel.invokeFunction('convertToInteractive',\n",
              "                                                     [key], {});\n",
              "          if (!dataTable) return;\n",
              "\n",
              "          const docLinkHtml = 'Like what you see? Visit the ' +\n",
              "            '<a target=\"_blank\" href=https://colab.research.google.com/notebooks/data_table.ipynb>data table notebook</a>'\n",
              "            + ' to learn more about interactive tables.';\n",
              "          element.innerHTML = '';\n",
              "          dataTable['output_type'] = 'display_data';\n",
              "          await google.colab.output.renderOutput(dataTable, element);\n",
              "          const docLink = document.createElement('div');\n",
              "          docLink.innerHTML = docLinkHtml;\n",
              "          element.appendChild(docLink);\n",
              "        }\n",
              "      </script>\n",
              "    </div>\n",
              "  </div>\n",
              "  "
            ]
          },
          "metadata": {},
          "execution_count": 184
        }
      ]
    },
    {
      "cell_type": "code",
      "source": [],
      "metadata": {
        "id": "TbL22Je6cvyF"
      },
      "execution_count": 184,
      "outputs": []
    },
    {
      "cell_type": "code",
      "source": [
        "X = df_final.drop('cnt', axis=1)\n",
        "y = df_final['cnt'].array.reshape(-1, 1)"
      ],
      "metadata": {
        "id": "LlvPzu-e9cRT"
      },
      "execution_count": 185,
      "outputs": []
    },
    {
      "cell_type": "code",
      "source": [
        "scaler = MinMaxScaler()\n",
        "scaler.fit(y)\n",
        "y = scaler.transform(y)"
      ],
      "metadata": {
        "id": "TsEn8rW0efVC"
      },
      "execution_count": 186,
      "outputs": []
    },
    {
      "cell_type": "code",
      "source": [
        "x_train, x_test, y_train, y_test = train_test_split(X, y, test_size=0.3, random_state=42)"
      ],
      "metadata": {
        "id": "MJVSS7kb9pye"
      },
      "execution_count": 187,
      "outputs": []
    },
    {
      "cell_type": "code",
      "source": [
        "input_shape = x_train.shape[1]\n",
        "\n",
        "model = tf.keras.models.Sequential()\n",
        "\n",
        "model.add(tf.keras.layers.Dense(units=100, activation='relu', input_shape=(input_shape,)))\n",
        "model.add(tf.keras.layers.Dense(units=100 ,activation='relu'))\n",
        "model.add(tf.keras.layers.Dense(units=100 ,activation='relu'))\n",
        "model.add(tf.keras.layers.Dense(units=1, activation='linear'))"
      ],
      "metadata": {
        "id": "KTFK3TN5-J7r"
      },
      "execution_count": 188,
      "outputs": []
    },
    {
      "cell_type": "code",
      "source": [
        "model.summary()"
      ],
      "metadata": {
        "colab": {
          "base_uri": "https://localhost:8080/"
        },
        "id": "7e649XsoCyuG",
        "outputId": "ba670ae0-afc6-48c6-eb27-80e906f3c9a3"
      },
      "execution_count": 189,
      "outputs": [
        {
          "output_type": "stream",
          "name": "stdout",
          "text": [
            "Model: \"sequential_4\"\n",
            "_________________________________________________________________\n",
            " Layer (type)                Output Shape              Param #   \n",
            "=================================================================\n",
            " dense_16 (Dense)            (None, 100)               1600      \n",
            "                                                                 \n",
            " dense_17 (Dense)            (None, 100)               10100     \n",
            "                                                                 \n",
            " dense_18 (Dense)            (None, 100)               10100     \n",
            "                                                                 \n",
            " dense_19 (Dense)            (None, 1)                 101       \n",
            "                                                                 \n",
            "=================================================================\n",
            "Total params: 21,901\n",
            "Trainable params: 21,901\n",
            "Non-trainable params: 0\n",
            "_________________________________________________________________\n"
          ]
        }
      ]
    },
    {
      "cell_type": "code",
      "source": [
        "model.compile(optimizer='Adam', loss='mean_squared_error')"
      ],
      "metadata": {
        "id": "WNd0_pNE-bEU"
      },
      "execution_count": 190,
      "outputs": []
    },
    {
      "cell_type": "code",
      "source": [
        "history = model.fit(x_train, y_train, epochs=20, batch_size=50, validation_split=0.2)"
      ],
      "metadata": {
        "colab": {
          "base_uri": "https://localhost:8080/"
        },
        "id": "rEnBRexmBPLu",
        "outputId": "b710a5ac-ab05-4799-aec9-cdd186e5f581"
      },
      "execution_count": 191,
      "outputs": [
        {
          "output_type": "stream",
          "name": "stdout",
          "text": [
            "Epoch 1/20\n",
            "9/9 [==============================] - 1s 43ms/step - loss: 0.2291 - val_loss: 0.0503\n",
            "Epoch 2/20\n",
            "9/9 [==============================] - 0s 10ms/step - loss: 0.0587 - val_loss: 0.0411\n",
            "Epoch 3/20\n",
            "9/9 [==============================] - 0s 10ms/step - loss: 0.0376 - val_loss: 0.0359\n",
            "Epoch 4/20\n",
            "9/9 [==============================] - 0s 11ms/step - loss: 0.0340 - val_loss: 0.0326\n",
            "Epoch 5/20\n",
            "9/9 [==============================] - 0s 10ms/step - loss: 0.0315 - val_loss: 0.0308\n",
            "Epoch 6/20\n",
            "9/9 [==============================] - 0s 10ms/step - loss: 0.0304 - val_loss: 0.0294\n",
            "Epoch 7/20\n",
            "9/9 [==============================] - 0s 12ms/step - loss: 0.0288 - val_loss: 0.0294\n",
            "Epoch 8/20\n",
            "9/9 [==============================] - 0s 10ms/step - loss: 0.0276 - val_loss: 0.0282\n",
            "Epoch 9/20\n",
            "9/9 [==============================] - 0s 10ms/step - loss: 0.0269 - val_loss: 0.0290\n",
            "Epoch 10/20\n",
            "9/9 [==============================] - 0s 11ms/step - loss: 0.0268 - val_loss: 0.0284\n",
            "Epoch 11/20\n",
            "9/9 [==============================] - 0s 12ms/step - loss: 0.0255 - val_loss: 0.0289\n",
            "Epoch 12/20\n",
            "9/9 [==============================] - 0s 11ms/step - loss: 0.0251 - val_loss: 0.0275\n",
            "Epoch 13/20\n",
            "9/9 [==============================] - 0s 10ms/step - loss: 0.0250 - val_loss: 0.0275\n",
            "Epoch 14/20\n",
            "9/9 [==============================] - 0s 11ms/step - loss: 0.0238 - val_loss: 0.0266\n",
            "Epoch 15/20\n",
            "9/9 [==============================] - 0s 11ms/step - loss: 0.0234 - val_loss: 0.0258\n",
            "Epoch 16/20\n",
            "9/9 [==============================] - 0s 10ms/step - loss: 0.0223 - val_loss: 0.0254\n",
            "Epoch 17/20\n",
            "9/9 [==============================] - 0s 11ms/step - loss: 0.0224 - val_loss: 0.0256\n",
            "Epoch 18/20\n",
            "9/9 [==============================] - 0s 11ms/step - loss: 0.0215 - val_loss: 0.0254\n",
            "Epoch 19/20\n",
            "9/9 [==============================] - 0s 11ms/step - loss: 0.0209 - val_loss: 0.0247\n",
            "Epoch 20/20\n",
            "9/9 [==============================] - 0s 12ms/step - loss: 0.0215 - val_loss: 0.0259\n"
          ]
        }
      ]
    },
    {
      "cell_type": "code",
      "source": [
        "plt.plot(history.history['loss'])\n",
        "plt.plot(history.history['val_loss'])\n",
        "plt.title(\"Model Loss progress during training\")\n",
        "plt.xlabel(\"Epochs\")\n",
        "plt.ylabel('Training and Validation Loss')\n",
        "plt.legend([\"Training Loss\", \"Validation Loss\"])"
      ],
      "metadata": {
        "colab": {
          "base_uri": "https://localhost:8080/",
          "height": 490
        },
        "id": "l54GiiccBlZO",
        "outputId": "80c6d1b0-8dd7-4363-d7d2-ff09ebc2af46"
      },
      "execution_count": 192,
      "outputs": [
        {
          "output_type": "execute_result",
          "data": {
            "text/plain": [
              "<matplotlib.legend.Legend at 0x7f642730f9d0>"
            ]
          },
          "metadata": {},
          "execution_count": 192
        },
        {
          "output_type": "display_data",
          "data": {
            "text/plain": [
              "<Figure size 640x480 with 1 Axes>"
            ],
            "image/png": "[encoded data removed]"
          },
          "metadata": {}
        }
      ]
    },
    {
      "cell_type": "code",
      "source": [
        "y_predict = model.predict(x_test)"
      ],
      "metadata": {
        "id": "hWI856ECEOmS",
        "colab": {
          "base_uri": "https://localhost:8080/"
        },
        "outputId": "97857fb9-7119-4676-8f4c-557026c77100"
      },
      "execution_count": 193,
      "outputs": [
        {
          "output_type": "stream",
          "name": "stdout",
          "text": [
            "7/7 [==============================] - 0s 3ms/step\n"
          ]
        }
      ]
    },
    {
      "cell_type": "code",
      "source": [
        "plt.plot(y_predict, y_test, \"^\", color='red')"
      ],
      "metadata": {
        "colab": {
          "base_uri": "https://localhost:8080/",
          "height": 448
        },
        "id": "c8AE22fi5mHz",
        "outputId": "ce22e9f1-1e28-4105-8fac-d460eec3a547"
      },
      "execution_count": 194,
      "outputs": [
        {
          "output_type": "execute_result",
          "data": {
            "text/plain": [
              "[<matplotlib.lines.Line2D at 0x7f6427265f40>]"
            ]
          },
          "metadata": {},
          "execution_count": 194
        },
        {
          "output_type": "display_data",
          "data": {
            "text/plain": [
              "<Figure size 640x480 with 1 Axes>"
            ],
            "image/png": "[encoded data removed]"
          },
          "metadata": {}
        }
      ]
    },
    {
      "cell_type": "code",
      "source": [
        "y_predict"
      ],
      "metadata": {
        "colab": {
          "base_uri": "https://localhost:8080/"
        },
        "id": "poKTqQtC9l5q",
        "outputId": "3f743cef-7ec7-430a-a051-86841523a0d0"
      },
      "execution_count": 195,
      "outputs": [
        {
          "output_type": "execute_result",
          "data": {
            "text/plain": [
              "array([[0.49440634],\n",
              "       [0.19904886],\n",
              "       [0.52109176],\n",
              "       [0.4676848 ],\n",
              "       [0.5777097 ],\n",
              "       [0.6563754 ],\n",
              "       [0.2335745 ],\n",
              "       [0.42770687],\n",
              "       [0.7095249 ],\n",
              "       [0.6886967 ],\n",
              "       [0.22667319],\n",
              "       [0.45060995],\n",
              "       [0.6678188 ],\n",
              "       [0.5935599 ],\n",
              "       [0.4222861 ],\n",
              "       [0.31859758],\n",
              "       [0.29127032],\n",
              "       [0.72621596],\n",
              "       [0.705972  ],\n",
              "       [0.1918223 ],\n",
              "       [0.6672456 ],\n",
              "       [0.7393952 ],\n",
              "       [0.5664205 ],\n",
              "       [0.21242812],\n",
              "       [0.3004809 ],\n",
              "       [0.63556427],\n",
              "       [0.3440185 ],\n",
              "       [0.6556334 ],\n",
              "       [0.27679312],\n",
              "       [0.46438387],\n",
              "       [0.4847451 ],\n",
              "       [0.6691062 ],\n",
              "       [0.6134469 ],\n",
              "       [0.71693933],\n",
              "       [0.5851443 ],\n",
              "       [0.52043957],\n",
              "       [0.7022707 ],\n",
              "       [0.63174504],\n",
              "       [0.6086187 ],\n",
              "       [0.2890621 ],\n",
              "       [0.61308146],\n",
              "       [0.36270863],\n",
              "       [0.6521462 ],\n",
              "       [0.66657317],\n",
              "       [0.70511436],\n",
              "       [0.49910358],\n",
              "       [0.70978135],\n",
              "       [0.3708748 ],\n",
              "       [0.5568588 ],\n",
              "       [0.37295288],\n",
              "       [0.6592062 ],\n",
              "       [0.44391447],\n",
              "       [0.33935645],\n",
              "       [0.7544907 ],\n",
              "       [0.6998416 ],\n",
              "       [0.6778186 ],\n",
              "       [0.6382638 ],\n",
              "       [0.4630488 ],\n",
              "       [0.582419  ],\n",
              "       [0.71333975],\n",
              "       [0.38882482],\n",
              "       [0.6961456 ],\n",
              "       [0.4711222 ],\n",
              "       [0.6711689 ],\n",
              "       [0.65931123],\n",
              "       [0.7375492 ],\n",
              "       [0.70968133],\n",
              "       [0.7365375 ],\n",
              "       [0.33543345],\n",
              "       [0.61642975],\n",
              "       [0.45789722],\n",
              "       [0.46294543],\n",
              "       [0.45730537],\n",
              "       [0.68288404],\n",
              "       [0.45283347],\n",
              "       [0.5421426 ],\n",
              "       [0.41298047],\n",
              "       [0.5565882 ],\n",
              "       [0.15593354],\n",
              "       [0.72543836],\n",
              "       [0.23486535],\n",
              "       [0.42858574],\n",
              "       [0.52747834],\n",
              "       [0.45759884],\n",
              "       [0.5322758 ],\n",
              "       [0.38421836],\n",
              "       [0.7620176 ],\n",
              "       [0.53584486],\n",
              "       [0.51547146],\n",
              "       [0.39750758],\n",
              "       [0.17545037],\n",
              "       [0.71233654],\n",
              "       [0.5534479 ],\n",
              "       [0.46591592],\n",
              "       [0.36499876],\n",
              "       [0.24447188],\n",
              "       [0.6688257 ],\n",
              "       [0.23754889],\n",
              "       [0.5194971 ],\n",
              "       [0.6966968 ],\n",
              "       [0.7445663 ],\n",
              "       [0.6401658 ],\n",
              "       [0.5736192 ],\n",
              "       [0.57688177],\n",
              "       [0.36363003],\n",
              "       [0.5834279 ],\n",
              "       [0.38374475],\n",
              "       [0.46642444],\n",
              "       [0.7637731 ],\n",
              "       [0.30672437],\n",
              "       [0.75673413],\n",
              "       [0.61864036],\n",
              "       [0.47161952],\n",
              "       [0.6674131 ],\n",
              "       [0.48947698],\n",
              "       [0.5667385 ],\n",
              "       [0.4131234 ],\n",
              "       [0.2939795 ],\n",
              "       [0.6789285 ],\n",
              "       [0.23247331],\n",
              "       [0.65463513],\n",
              "       [0.5580496 ],\n",
              "       [0.52844256],\n",
              "       [0.20689085],\n",
              "       [0.5811646 ],\n",
              "       [0.60500205],\n",
              "       [0.7518936 ],\n",
              "       [0.5239526 ],\n",
              "       [0.41519988],\n",
              "       [0.61000603],\n",
              "       [0.5128376 ],\n",
              "       [0.5370175 ],\n",
              "       [0.56903607],\n",
              "       [0.5841038 ],\n",
              "       [0.7221717 ],\n",
              "       [0.48321095],\n",
              "       [0.5507341 ],\n",
              "       [0.71521693],\n",
              "       [0.39114928],\n",
              "       [0.7228276 ],\n",
              "       [0.62796354],\n",
              "       [0.3287911 ],\n",
              "       [0.3413258 ],\n",
              "       [0.756577  ],\n",
              "       [0.5692677 ],\n",
              "       [0.68655276],\n",
              "       [0.44658434],\n",
              "       [0.3983474 ],\n",
              "       [0.6539785 ],\n",
              "       [0.5430337 ],\n",
              "       [0.53714335],\n",
              "       [0.6839067 ],\n",
              "       [0.5526344 ],\n",
              "       [0.7122023 ],\n",
              "       [0.34241804],\n",
              "       [0.6220269 ],\n",
              "       [0.39778984],\n",
              "       [0.7031755 ],\n",
              "       [0.6304983 ],\n",
              "       [0.7646648 ],\n",
              "       [0.6654189 ],\n",
              "       [0.5878549 ],\n",
              "       [0.46416682],\n",
              "       [0.46509838],\n",
              "       [0.34615618],\n",
              "       [0.5752306 ],\n",
              "       [0.5142315 ],\n",
              "       [0.32682088],\n",
              "       [0.5713455 ],\n",
              "       [0.7753946 ],\n",
              "       [0.69065756],\n",
              "       [0.61668503],\n",
              "       [0.33659008],\n",
              "       [0.38801277],\n",
              "       [0.45020938],\n",
              "       [0.52715826],\n",
              "       [0.44526422],\n",
              "       [0.71733224],\n",
              "       [0.6433327 ],\n",
              "       [0.35031217],\n",
              "       [0.23556206],\n",
              "       [0.5993415 ],\n",
              "       [0.6731058 ],\n",
              "       [0.49441168],\n",
              "       [0.6079797 ],\n",
              "       [0.79876506],\n",
              "       [0.8745516 ],\n",
              "       [0.24529825],\n",
              "       [0.44901073],\n",
              "       [0.28490317],\n",
              "       [0.72604305],\n",
              "       [0.3526834 ],\n",
              "       [0.6037781 ],\n",
              "       [0.5873977 ],\n",
              "       [0.51805484],\n",
              "       [0.21521388],\n",
              "       [0.743702  ],\n",
              "       [0.30510697],\n",
              "       [0.26311755],\n",
              "       [0.66478294],\n",
              "       [0.7589334 ],\n",
              "       [0.5165064 ],\n",
              "       [0.4798897 ],\n",
              "       [0.7403113 ],\n",
              "       [0.5800527 ],\n",
              "       [0.54907113],\n",
              "       [0.76108015],\n",
              "       [0.27983633],\n",
              "       [0.6508166 ],\n",
              "       [0.77531624],\n",
              "       [0.53431374],\n",
              "       [0.7375184 ],\n",
              "       [0.4590502 ],\n",
              "       [0.2394009 ],\n",
              "       [0.67535836],\n",
              "       [0.5599876 ],\n",
              "       [0.768889  ],\n",
              "       [0.6482155 ],\n",
              "       [0.6588541 ],\n",
              "       [0.4768957 ]], dtype=float32)"
            ]
          },
          "metadata": {},
          "execution_count": 195
        }
      ]
    },
    {
      "cell_type": "code",
      "source": [
        "y_predict_origin = scaler.inverse_transform(y_predict)"
      ],
      "metadata": {
        "id": "dXN80eLn5twl"
      },
      "execution_count": 196,
      "outputs": []
    },
    {
      "cell_type": "code",
      "source": [
        "y_test_origin = scaler.inverse_transform(y_test)"
      ],
      "metadata": {
        "id": "VhwQoq_E6fpX"
      },
      "execution_count": 197,
      "outputs": []
    },
    {
      "cell_type": "code",
      "source": [
        "plt.plot(y_test_origin, y_predict_origin, \"o\", color='blue')"
      ],
      "metadata": {
        "colab": {
          "base_uri": "https://localhost:8080/",
          "height": 448
        },
        "id": "_cnpkI4C_cqR",
        "outputId": "e6205c79-e55b-410e-ff00-4a18b23f35ce"
      },
      "execution_count": 200,
      "outputs": [
        {
          "output_type": "execute_result",
          "data": {
            "text/plain": [
              "[<matplotlib.lines.Line2D at 0x7f64271fd340>]"
            ]
          },
          "metadata": {},
          "execution_count": 200
        },
        {
          "output_type": "display_data",
          "data": {
            "text/plain": [
              "<Figure size 640x480 with 1 Axes>"
            ],
            "image/png": "[encoded data removed]"
          },
          "metadata": {}
        }
      ]
    },
    {
      "cell_type": "code",
      "source": [
        "mae = mean_absolute_error(y_test_origin, y_predict_origin)\n",
        "mse = mean_squared_error(y_test_origin, y_predict_origin)\n",
        "rmse = sqrt(mse)\n",
        "r2 = r2_score(y_test_origin, y_predict_origin)"
      ],
      "metadata": {
        "id": "LHCOsqAqBEA1"
      },
      "execution_count": 203,
      "outputs": []
    },
    {
      "cell_type": "code",
      "source": [
        "print(\"MAE \" ,mae, \"\\nMSE: \", mse, \"\\nRMSE \", rmse, \"\\nr2_score \", r2)"
      ],
      "metadata": {
        "colab": {
          "base_uri": "https://localhost:8080/"
        },
        "id": "Vm1HkuU0B4TO",
        "outputId": "a5e9a443-b714-4727-ef01-3f8bfd03cb6e"
      },
      "execution_count": 204,
      "outputs": [
        {
          "output_type": "stream",
          "name": "stdout",
          "text": [
            "MAE  1245.6697687322444 \n",
            "MSE:  2205397.0517263217 \n",
            "RMSE  1485.0579287443038 \n",
            "r2_score  0.445736151269984\n"
          ]
        }
      ]
    }
  ]
}