{
 "cells": [
  {
   "cell_type": "code",
   "execution_count": 29,
   "metadata": {},
   "outputs": [],
   "source": [
    "import pandas as pd\n",
    "import math\n",
    "from sklearn.model_selection import train_test_split\n",
    "import keras\n",
    "from keras import Sequential\n",
    "from keras.layers import Dense"
   ]
  },
  {
   "cell_type": "code",
   "execution_count": 7,
   "metadata": {},
   "outputs": [],
   "source": [
    "x = pd.read_csv(\"data/entradas_breast.csv\")\n",
    "y = pd.read_csv('data/saidas_breast.csv')"
   ]
  },
  {
   "cell_type": "code",
   "execution_count": 8,
   "metadata": {},
   "outputs": [],
   "source": [
    "x_train, x_test, y_train, y_test = train_test_split(x, y, test_size=0.3, random_state=42)"
   ]
  },
  {
   "cell_type": "code",
   "execution_count": 28,
   "metadata": {},
   "outputs": [],
   "source": [
    "input_dim = x.shape[1]\n",
    "len_hidden_layer = math.ceil((x.shape[1] + 1) / 2)"
   ]
  },
  {
   "cell_type": "code",
   "execution_count": 65,
   "metadata": {},
   "outputs": [
    {
     "ename": "ValueError",
     "evalue": "Unknown activation function: 'step_funciton'. Please ensure you are using a `keras.utils.custom_object_scope` and that this object is included in the scope. See https://www.tensorflow.org/guide/keras/save_and_serialize#registering_the_custom_object for details.",
     "output_type": "error",
     "traceback": [
      "\u001b[1;31m---------------------------------------------------------------------------\u001b[0m",
      "\u001b[1;31mValueError\u001b[0m                                Traceback (most recent call last)",
      "Cell \u001b[1;32mIn[65], line 11\u001b[0m\n\u001b[0;32m      9\u001b[0m sequential\u001b[39m.\u001b[39madd(Dense(units\u001b[39m=\u001b[39mlen_hidden_layer, activation\u001b[39m=\u001b[39m\u001b[39m'\u001b[39m\u001b[39mrelu\u001b[39m\u001b[39m'\u001b[39m, input_dim\u001b[39m=\u001b[39minput_dim))\n\u001b[0;32m     10\u001b[0m sequential\u001b[39m.\u001b[39madd(Dense(units\u001b[39m=\u001b[39mlen_hidden_layer, activation\u001b[39m=\u001b[39m\u001b[39m'\u001b[39m\u001b[39mrelu\u001b[39m\u001b[39m'\u001b[39m))\n\u001b[1;32m---> 11\u001b[0m sequential\u001b[39m.\u001b[39madd(Dense(units \u001b[39m=\u001b[39;49m \u001b[39m1\u001b[39;49m, activation\u001b[39m=\u001b[39;49m\u001b[39m'\u001b[39;49m\u001b[39mstep_funciton\u001b[39;49m\u001b[39m'\u001b[39;49m))\n\u001b[0;32m     13\u001b[0m sequential\u001b[39m.\u001b[39mcompile(optimizer\u001b[39m=\u001b[39moptimizer, loss\u001b[39m=\u001b[39m\u001b[39m'\u001b[39m\u001b[39mbinary_crossentropy\u001b[39m\u001b[39m'\u001b[39m, metrics\u001b[39m=\u001b[39m[\u001b[39m'\u001b[39m\u001b[39mbinary_accuracy\u001b[39m\u001b[39m'\u001b[39m])\n\u001b[0;32m     15\u001b[0m sequential\u001b[39m.\u001b[39mfit(x_train, y_train, batch_size\u001b[39m=\u001b[39m\u001b[39m10\u001b[39m, epochs\u001b[39m=\u001b[39m\u001b[39m100\u001b[39m, verbose\u001b[39m=\u001b[39m\u001b[39mTrue\u001b[39;00m)\n",
      "File \u001b[1;32mc:\\Users\\eduardo.guimaraes\\Documents\\rede_neural\\rede-nerural\\.venv\\Lib\\site-packages\\keras\\dtensor\\utils.py:96\u001b[0m, in \u001b[0;36mallow_initializer_layout.<locals>._wrap_function\u001b[1;34m(layer_instance, *args, **kwargs)\u001b[0m\n\u001b[0;32m     93\u001b[0m         \u001b[39mif\u001b[39;00m layout:\n\u001b[0;32m     94\u001b[0m             layout_args[variable_name \u001b[39m+\u001b[39m \u001b[39m\"\u001b[39m\u001b[39m_layout\u001b[39m\u001b[39m\"\u001b[39m] \u001b[39m=\u001b[39m layout\n\u001b[1;32m---> 96\u001b[0m init_method(layer_instance, \u001b[39m*\u001b[39;49margs, \u001b[39m*\u001b[39;49m\u001b[39m*\u001b[39;49mkwargs)\n\u001b[0;32m     98\u001b[0m \u001b[39m# Inject the layout parameter after the invocation of __init__()\u001b[39;00m\n\u001b[0;32m     99\u001b[0m \u001b[39mfor\u001b[39;00m layout_param_name, layout \u001b[39min\u001b[39;00m layout_args\u001b[39m.\u001b[39mitems():\n",
      "File \u001b[1;32mc:\\Users\\eduardo.guimaraes\\Documents\\rede_neural\\rede-nerural\\.venv\\Lib\\site-packages\\keras\\layers\\core\\dense.py:125\u001b[0m, in \u001b[0;36mDense.__init__\u001b[1;34m(self, units, activation, use_bias, kernel_initializer, bias_initializer, kernel_regularizer, bias_regularizer, activity_regularizer, kernel_constraint, bias_constraint, **kwargs)\u001b[0m\n\u001b[0;32m    120\u001b[0m \u001b[39mif\u001b[39;00m \u001b[39mself\u001b[39m\u001b[39m.\u001b[39munits \u001b[39m<\u001b[39m \u001b[39m0\u001b[39m:\n\u001b[0;32m    121\u001b[0m     \u001b[39mraise\u001b[39;00m \u001b[39mValueError\u001b[39;00m(\n\u001b[0;32m    122\u001b[0m         \u001b[39m\"\u001b[39m\u001b[39mReceived an invalid value for `units`, expected \u001b[39m\u001b[39m\"\u001b[39m\n\u001b[0;32m    123\u001b[0m         \u001b[39mf\u001b[39m\u001b[39m\"\u001b[39m\u001b[39ma positive integer. Received: units=\u001b[39m\u001b[39m{\u001b[39;00munits\u001b[39m}\u001b[39;00m\u001b[39m\"\u001b[39m\n\u001b[0;32m    124\u001b[0m     )\n\u001b[1;32m--> 125\u001b[0m \u001b[39mself\u001b[39m\u001b[39m.\u001b[39mactivation \u001b[39m=\u001b[39m activations\u001b[39m.\u001b[39;49mget(activation)\n\u001b[0;32m    126\u001b[0m \u001b[39mself\u001b[39m\u001b[39m.\u001b[39muse_bias \u001b[39m=\u001b[39m use_bias\n\u001b[0;32m    127\u001b[0m \u001b[39mself\u001b[39m\u001b[39m.\u001b[39mkernel_initializer \u001b[39m=\u001b[39m initializers\u001b[39m.\u001b[39mget(kernel_initializer)\n",
      "File \u001b[1;32mc:\\Users\\eduardo.guimaraes\\Documents\\rede_neural\\rede-nerural\\.venv\\Lib\\site-packages\\tensorflow\\python\\util\\traceback_utils.py:153\u001b[0m, in \u001b[0;36mfilter_traceback.<locals>.error_handler\u001b[1;34m(*args, **kwargs)\u001b[0m\n\u001b[0;32m    151\u001b[0m \u001b[39mexcept\u001b[39;00m \u001b[39mException\u001b[39;00m \u001b[39mas\u001b[39;00m e:\n\u001b[0;32m    152\u001b[0m   filtered_tb \u001b[39m=\u001b[39m _process_traceback_frames(e\u001b[39m.\u001b[39m__traceback__)\n\u001b[1;32m--> 153\u001b[0m   \u001b[39mraise\u001b[39;00m e\u001b[39m.\u001b[39mwith_traceback(filtered_tb) \u001b[39mfrom\u001b[39;00m \u001b[39mNone\u001b[39m\n\u001b[0;32m    154\u001b[0m \u001b[39mfinally\u001b[39;00m:\n\u001b[0;32m    155\u001b[0m   \u001b[39mdel\u001b[39;00m filtered_tb\n",
      "File \u001b[1;32mc:\\Users\\eduardo.guimaraes\\Documents\\rede_neural\\rede-nerural\\.venv\\Lib\\site-packages\\keras\\activations.py:628\u001b[0m, in \u001b[0;36mget\u001b[1;34m(identifier)\u001b[0m\n\u001b[0;32m    622\u001b[0m \u001b[39mif\u001b[39;00m \u001b[39misinstance\u001b[39m(identifier, (\u001b[39mstr\u001b[39m, \u001b[39mdict\u001b[39m)):\n\u001b[0;32m    623\u001b[0m     use_legacy_format \u001b[39m=\u001b[39m (\n\u001b[0;32m    624\u001b[0m         \u001b[39m\"\u001b[39m\u001b[39mmodule\u001b[39m\u001b[39m\"\u001b[39m \u001b[39mnot\u001b[39;00m \u001b[39min\u001b[39;00m identifier\n\u001b[0;32m    625\u001b[0m         \u001b[39mif\u001b[39;00m \u001b[39misinstance\u001b[39m(identifier, \u001b[39mdict\u001b[39m)\n\u001b[0;32m    626\u001b[0m         \u001b[39melse\u001b[39;00m \u001b[39mFalse\u001b[39;00m\n\u001b[0;32m    627\u001b[0m     )\n\u001b[1;32m--> 628\u001b[0m     \u001b[39mreturn\u001b[39;00m deserialize(identifier, use_legacy_format\u001b[39m=\u001b[39;49muse_legacy_format)\n\u001b[0;32m    629\u001b[0m \u001b[39melif\u001b[39;00m callable(identifier):\n\u001b[0;32m    630\u001b[0m     \u001b[39mreturn\u001b[39;00m identifier\n",
      "File \u001b[1;32mc:\\Users\\eduardo.guimaraes\\Documents\\rede_neural\\rede-nerural\\.venv\\Lib\\site-packages\\keras\\activations.py:582\u001b[0m, in \u001b[0;36mdeserialize\u001b[1;34m(name, custom_objects, use_legacy_format)\u001b[0m\n\u001b[0;32m    574\u001b[0m     \u001b[39mreturn\u001b[39;00m legacy_serialization\u001b[39m.\u001b[39mdeserialize_keras_object(\n\u001b[0;32m    575\u001b[0m         name,\n\u001b[0;32m    576\u001b[0m         module_objects\u001b[39m=\u001b[39mactivation_functions,\n\u001b[0;32m    577\u001b[0m         custom_objects\u001b[39m=\u001b[39mcustom_objects,\n\u001b[0;32m    578\u001b[0m         printable_module_name\u001b[39m=\u001b[39m\u001b[39m\"\u001b[39m\u001b[39mactivation function\u001b[39m\u001b[39m\"\u001b[39m,\n\u001b[0;32m    579\u001b[0m     )\n\u001b[0;32m    581\u001b[0m \u001b[39m# To be replaced by new serialization_lib\u001b[39;00m\n\u001b[1;32m--> 582\u001b[0m \u001b[39mreturn\u001b[39;00m legacy_serialization\u001b[39m.\u001b[39;49mdeserialize_keras_object(\n\u001b[0;32m    583\u001b[0m     name,\n\u001b[0;32m    584\u001b[0m     module_objects\u001b[39m=\u001b[39;49mactivation_functions,\n\u001b[0;32m    585\u001b[0m     custom_objects\u001b[39m=\u001b[39;49mcustom_objects,\n\u001b[0;32m    586\u001b[0m     printable_module_name\u001b[39m=\u001b[39;49m\u001b[39m\"\u001b[39;49m\u001b[39mactivation function\u001b[39;49m\u001b[39m\"\u001b[39;49m,\n\u001b[0;32m    587\u001b[0m )\n",
      "File \u001b[1;32mc:\\Users\\eduardo.guimaraes\\Documents\\rede_neural\\rede-nerural\\.venv\\Lib\\site-packages\\keras\\saving\\legacy\\serialization.py:543\u001b[0m, in \u001b[0;36mdeserialize_keras_object\u001b[1;34m(identifier, module_objects, custom_objects, printable_module_name)\u001b[0m\n\u001b[0;32m    541\u001b[0m     obj \u001b[39m=\u001b[39m module_objects\u001b[39m.\u001b[39mget(object_name)\n\u001b[0;32m    542\u001b[0m     \u001b[39mif\u001b[39;00m obj \u001b[39mis\u001b[39;00m \u001b[39mNone\u001b[39;00m:\n\u001b[1;32m--> 543\u001b[0m         \u001b[39mraise\u001b[39;00m \u001b[39mValueError\u001b[39;00m(\n\u001b[0;32m    544\u001b[0m             \u001b[39mf\u001b[39m\u001b[39m\"\u001b[39m\u001b[39mUnknown \u001b[39m\u001b[39m{\u001b[39;00mprintable_module_name\u001b[39m}\u001b[39;00m\u001b[39m: \u001b[39m\u001b[39m'\u001b[39m\u001b[39m{\u001b[39;00mobject_name\u001b[39m}\u001b[39;00m\u001b[39m'\u001b[39m\u001b[39m. \u001b[39m\u001b[39m\"\u001b[39m\n\u001b[0;32m    545\u001b[0m             \u001b[39m\"\u001b[39m\u001b[39mPlease ensure you are using a \u001b[39m\u001b[39m\"\u001b[39m\n\u001b[0;32m    546\u001b[0m             \u001b[39m\"\u001b[39m\u001b[39m`keras.utils.custom_object_scope` \u001b[39m\u001b[39m\"\u001b[39m\n\u001b[0;32m    547\u001b[0m             \u001b[39m\"\u001b[39m\u001b[39mand that this object is included in the scope. See \u001b[39m\u001b[39m\"\u001b[39m\n\u001b[0;32m    548\u001b[0m             \u001b[39m\"\u001b[39m\u001b[39mhttps://www.tensorflow.org/guide/keras/save_and_serialize\u001b[39m\u001b[39m\"\u001b[39m\n\u001b[0;32m    549\u001b[0m             \u001b[39m\"\u001b[39m\u001b[39m#registering_the_custom_object for details.\u001b[39m\u001b[39m\"\u001b[39m\n\u001b[0;32m    550\u001b[0m         )\n\u001b[0;32m    552\u001b[0m \u001b[39m# Classes passed by name are instantiated with no args, functions are\u001b[39;00m\n\u001b[0;32m    553\u001b[0m \u001b[39m# returned as-is.\u001b[39;00m\n\u001b[0;32m    554\u001b[0m \u001b[39mif\u001b[39;00m tf_inspect\u001b[39m.\u001b[39misclass(obj):\n",
      "\u001b[1;31mValueError\u001b[0m: Unknown activation function: 'step_funciton'. Please ensure you are using a `keras.utils.custom_object_scope` and that this object is included in the scope. See https://www.tensorflow.org/guide/keras/save_and_serialize#registering_the_custom_object for details."
     ]
    }
   ],
   "source": [
    "optimizer = keras.optimizers.Adam(\n",
    "    learning_rate=0.001,\n",
    "    decay=0.0001,\n",
    "    clipvalue=0.5\n",
    ")\n",
    "\n",
    "sequential = Sequential()\n",
    "\n",
    "sequential.add(Dense(units=len_hidden_layer, activation='relu', input_dim=input_dim))\n",
    "sequential.add(Dense(units=len_hidden_layer, activation='relu'))\n",
    "sequential.add(Dense(units = 1, activation='sigmoid'))\n",
    "\n",
    "sequential.compile(optimizer=optimizer, loss='binary_crossentropy', metrics=['binary_accuracy'])\n",
    "\n",
    "sequential.fit(x_train, y_train, batch_size=10, epochs=100, verbose=True)"
   ]
  },
  {
   "cell_type": "code",
   "execution_count": 63,
   "metadata": {},
   "outputs": [
    {
     "name": "stdout",
     "output_type": "stream",
     "text": [
      "6/6 [==============================] - 0s 1ms/step\n"
     ]
    }
   ],
   "source": [
    "from sklearn.metrics import confusion_matrix, accuracy_score\n",
    "\n",
    "y_pred = sequential.predict(x_test)\n",
    "# False ou True\n",
    "y_pred = (y_pred > 0.5)"
   ]
  },
  {
   "cell_type": "code",
   "execution_count": 64,
   "metadata": {},
   "outputs": [
    {
     "data": {
      "text/plain": [
       "0.7953216374269005"
      ]
     },
     "execution_count": 64,
     "metadata": {},
     "output_type": "execute_result"
    }
   ],
   "source": [
    "accuracy_score(y_test, y_pred)"
   ]
  },
  {
   "cell_type": "code",
   "execution_count": null,
   "metadata": {},
   "outputs": [],
   "source": []
  },
  {
   "cell_type": "code",
   "execution_count": null,
   "metadata": {},
   "outputs": [],
   "source": []
  }
 ],
 "metadata": {
  "kernelspec": {
   "display_name": ".venv",
   "language": "python",
   "name": "python3"
  },
  "language_info": {
   "codemirror_mode": {
    "name": "ipython",
    "version": 3
   },
   "file_extension": ".py",
   "mimetype": "text/x-python",
   "name": "python",
   "nbconvert_exporter": "python",
   "pygments_lexer": "ipython3",
   "version": "3.11.0"
  },
  "orig_nbformat": 4,
  "vscode": {
   "interpreter": {
    "hash": "2575d859cbe458059a2571d47c2181a1ed63433329998cbd50d4e136a0bc0671"
   }
  }
 },
 "nbformat": 4,
 "nbformat_minor": 2
}
