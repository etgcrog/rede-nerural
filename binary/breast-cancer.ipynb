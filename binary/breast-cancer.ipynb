{
 "cells": [
  {
   "cell_type": "code",
   "execution_count": 29,
   "metadata": {},
   "outputs": [],
   "source": [
    "import pandas as pd\n",
    "import math\n",
    "from sklearn.model_selection import train_test_split\n",
    "import keras\n",
    "from keras import Sequential\n",
    "from keras.layers import Dense"
   ]
  },
  {
   "cell_type": "code",
   "execution_count": 7,
   "metadata": {},
   "outputs": [],
   "source": [
    "x = pd.read_csv(\"data/entradas_breast.csv\")\n",
    "y = pd.read_csv('data/saidas_breast.csv')"
   ]
  },
  {
   "cell_type": "code",
   "execution_count": 8,
   "metadata": {},
   "outputs": [],
   "source": [
    "x_train, x_test, y_train, y_test = train_test_split(x, y, test_size=0.3, random_state=42)"
   ]
  },
  {
   "cell_type": "code",
   "execution_count": 28,
   "metadata": {},
   "outputs": [],
   "source": [
    "input_dim = x.shape[1]\n",
    "len_hidden_layer = math.ceil((x.shape[1] + 1) / 2)"
   ]
  },
  {
   "cell_type": "code",
   "execution_count": 66,
   "metadata": {},
   "outputs": [
    {
     "name": "stdout",
     "output_type": "stream",
     "text": [
      "Epoch 1/100\n",
      "40/40 [==============================] - 1s 1ms/step - loss: 34.6206 - binary_accuracy: 0.5427\n",
      "Epoch 2/100\n",
      "40/40 [==============================] - 0s 1ms/step - loss: 21.2720 - binary_accuracy: 0.6106\n",
      "Epoch 3/100\n",
      "40/40 [==============================] - 0s 1ms/step - loss: 13.2790 - binary_accuracy: 0.6784\n",
      "Epoch 4/100\n",
      "40/40 [==============================] - 0s 2ms/step - loss: 10.5726 - binary_accuracy: 0.7010\n",
      "Epoch 5/100\n",
      "40/40 [==============================] - 0s 2ms/step - loss: 7.6742 - binary_accuracy: 0.7362\n",
      "Epoch 6/100\n",
      "40/40 [==============================] - 0s 1ms/step - loss: 4.9168 - binary_accuracy: 0.7337\n",
      "Epoch 7/100\n",
      "40/40 [==============================] - 0s 1ms/step - loss: 4.4982 - binary_accuracy: 0.7337\n",
      "Epoch 8/100\n",
      "40/40 [==============================] - 0s 2ms/step - loss: 4.0835 - binary_accuracy: 0.7613\n",
      "Epoch 9/100\n",
      "40/40 [==============================] - 0s 2ms/step - loss: 3.6004 - binary_accuracy: 0.7789\n",
      "Epoch 10/100\n",
      "40/40 [==============================] - 0s 2ms/step - loss: 3.1312 - binary_accuracy: 0.7613\n",
      "Epoch 11/100\n",
      "40/40 [==============================] - 0s 1ms/step - loss: 3.0101 - binary_accuracy: 0.7714\n",
      "Epoch 12/100\n",
      "40/40 [==============================] - 0s 1ms/step - loss: 2.4723 - binary_accuracy: 0.7663\n",
      "Epoch 13/100\n",
      "40/40 [==============================] - 0s 1ms/step - loss: 2.7720 - binary_accuracy: 0.7513\n",
      "Epoch 14/100\n",
      "40/40 [==============================] - 0s 1ms/step - loss: 2.8741 - binary_accuracy: 0.7889\n",
      "Epoch 15/100\n",
      "40/40 [==============================] - 0s 1ms/step - loss: 2.4568 - binary_accuracy: 0.7714\n",
      "Epoch 16/100\n",
      "40/40 [==============================] - 0s 2ms/step - loss: 2.6783 - binary_accuracy: 0.8266\n",
      "Epoch 17/100\n",
      "40/40 [==============================] - 0s 1ms/step - loss: 3.1799 - binary_accuracy: 0.7513\n",
      "Epoch 18/100\n",
      "40/40 [==============================] - 0s 2ms/step - loss: 3.1454 - binary_accuracy: 0.7739\n",
      "Epoch 19/100\n",
      "40/40 [==============================] - 0s 2ms/step - loss: 2.2349 - binary_accuracy: 0.7965\n",
      "Epoch 20/100\n",
      "40/40 [==============================] - 0s 2ms/step - loss: 2.0776 - binary_accuracy: 0.8090\n",
      "Epoch 21/100\n",
      "40/40 [==============================] - 0s 1ms/step - loss: 1.7694 - binary_accuracy: 0.8241\n",
      "Epoch 22/100\n",
      "40/40 [==============================] - 0s 1ms/step - loss: 2.0549 - binary_accuracy: 0.7990\n",
      "Epoch 23/100\n",
      "40/40 [==============================] - 0s 2ms/step - loss: 1.6511 - binary_accuracy: 0.8116\n",
      "Epoch 24/100\n",
      "40/40 [==============================] - 0s 1ms/step - loss: 1.5810 - binary_accuracy: 0.8291\n",
      "Epoch 25/100\n",
      "40/40 [==============================] - 0s 1ms/step - loss: 2.1926 - binary_accuracy: 0.8040\n",
      "Epoch 26/100\n",
      "40/40 [==============================] - 0s 1ms/step - loss: 1.9509 - binary_accuracy: 0.7990\n",
      "Epoch 27/100\n",
      "40/40 [==============================] - 0s 1ms/step - loss: 1.7962 - binary_accuracy: 0.8015\n",
      "Epoch 28/100\n",
      "40/40 [==============================] - 0s 1ms/step - loss: 1.4301 - binary_accuracy: 0.8417\n",
      "Epoch 29/100\n",
      "40/40 [==============================] - 0s 1ms/step - loss: 2.1045 - binary_accuracy: 0.8191\n",
      "Epoch 30/100\n",
      "40/40 [==============================] - 0s 1ms/step - loss: 1.4094 - binary_accuracy: 0.8191\n",
      "Epoch 31/100\n",
      "40/40 [==============================] - 0s 1ms/step - loss: 1.4271 - binary_accuracy: 0.8241\n",
      "Epoch 32/100\n",
      "40/40 [==============================] - 0s 1ms/step - loss: 1.4529 - binary_accuracy: 0.8392\n",
      "Epoch 33/100\n",
      "40/40 [==============================] - 0s 1ms/step - loss: 1.4230 - binary_accuracy: 0.8291\n",
      "Epoch 34/100\n",
      "40/40 [==============================] - 0s 1ms/step - loss: 1.8877 - binary_accuracy: 0.8116\n",
      "Epoch 35/100\n",
      "40/40 [==============================] - 0s 1ms/step - loss: 1.2499 - binary_accuracy: 0.8467\n",
      "Epoch 36/100\n",
      "40/40 [==============================] - 0s 2ms/step - loss: 1.2704 - binary_accuracy: 0.8367\n",
      "Epoch 37/100\n",
      "40/40 [==============================] - 0s 1ms/step - loss: 1.3518 - binary_accuracy: 0.8392\n",
      "Epoch 38/100\n",
      "40/40 [==============================] - 0s 956us/step - loss: 2.2650 - binary_accuracy: 0.7789\n",
      "Epoch 39/100\n",
      "40/40 [==============================] - 0s 1ms/step - loss: 1.9006 - binary_accuracy: 0.8015\n",
      "Epoch 40/100\n",
      "40/40 [==============================] - 0s 1ms/step - loss: 1.4986 - binary_accuracy: 0.8543\n",
      "Epoch 41/100\n",
      "40/40 [==============================] - 0s 1ms/step - loss: 1.1614 - binary_accuracy: 0.8492\n",
      "Epoch 42/100\n",
      "40/40 [==============================] - 0s 983us/step - loss: 1.1796 - binary_accuracy: 0.8568\n",
      "Epoch 43/100\n",
      "40/40 [==============================] - 0s 1ms/step - loss: 1.4179 - binary_accuracy: 0.8291\n",
      "Epoch 44/100\n",
      "40/40 [==============================] - 0s 1ms/step - loss: 0.9859 - binary_accuracy: 0.8392\n",
      "Epoch 45/100\n",
      "40/40 [==============================] - 0s 2ms/step - loss: 1.2661 - binary_accuracy: 0.8166\n",
      "Epoch 46/100\n",
      "40/40 [==============================] - 0s 1ms/step - loss: 1.9741 - binary_accuracy: 0.7864\n",
      "Epoch 47/100\n",
      "40/40 [==============================] - 0s 2ms/step - loss: 1.6036 - binary_accuracy: 0.8015\n",
      "Epoch 48/100\n",
      "40/40 [==============================] - 0s 2ms/step - loss: 1.3303 - binary_accuracy: 0.8417\n",
      "Epoch 49/100\n",
      "40/40 [==============================] - 0s 2ms/step - loss: 2.5072 - binary_accuracy: 0.7538\n",
      "Epoch 50/100\n",
      "40/40 [==============================] - 0s 1ms/step - loss: 1.0707 - binary_accuracy: 0.8417\n",
      "Epoch 51/100\n",
      "40/40 [==============================] - 0s 1ms/step - loss: 1.7098 - binary_accuracy: 0.8116\n",
      "Epoch 52/100\n",
      "40/40 [==============================] - 0s 1ms/step - loss: 2.6293 - binary_accuracy: 0.7688\n",
      "Epoch 53/100\n",
      "40/40 [==============================] - 0s 1ms/step - loss: 1.7700 - binary_accuracy: 0.8116\n",
      "Epoch 54/100\n",
      "40/40 [==============================] - 0s 1ms/step - loss: 2.1389 - binary_accuracy: 0.8342\n",
      "Epoch 55/100\n",
      "40/40 [==============================] - 0s 1ms/step - loss: 2.0269 - binary_accuracy: 0.7990\n",
      "Epoch 56/100\n",
      "40/40 [==============================] - 0s 1ms/step - loss: 1.2973 - binary_accuracy: 0.8543\n",
      "Epoch 57/100\n",
      "40/40 [==============================] - 0s 1ms/step - loss: 1.9479 - binary_accuracy: 0.8065\n",
      "Epoch 58/100\n",
      "40/40 [==============================] - 0s 1ms/step - loss: 1.4974 - binary_accuracy: 0.8241\n",
      "Epoch 59/100\n",
      "40/40 [==============================] - 0s 1ms/step - loss: 1.4168 - binary_accuracy: 0.8568\n",
      "Epoch 60/100\n",
      "40/40 [==============================] - 0s 1ms/step - loss: 1.8804 - binary_accuracy: 0.8241\n",
      "Epoch 61/100\n",
      "40/40 [==============================] - 0s 1ms/step - loss: 2.1037 - binary_accuracy: 0.8392\n",
      "Epoch 62/100\n",
      "40/40 [==============================] - 0s 1ms/step - loss: 2.0092 - binary_accuracy: 0.7814\n",
      "Epoch 63/100\n",
      "40/40 [==============================] - 0s 1ms/step - loss: 1.7974 - binary_accuracy: 0.8241\n",
      "Epoch 64/100\n",
      "40/40 [==============================] - 0s 1ms/step - loss: 1.4633 - binary_accuracy: 0.8467\n",
      "Epoch 65/100\n",
      "40/40 [==============================] - 0s 1ms/step - loss: 1.2089 - binary_accuracy: 0.8643\n",
      "Epoch 66/100\n",
      "40/40 [==============================] - 0s 1ms/step - loss: 1.3838 - binary_accuracy: 0.8492\n",
      "Epoch 67/100\n",
      "40/40 [==============================] - 0s 1ms/step - loss: 1.5177 - binary_accuracy: 0.8618\n",
      "Epoch 68/100\n",
      "40/40 [==============================] - 0s 1ms/step - loss: 1.5311 - binary_accuracy: 0.8317\n",
      "Epoch 69/100\n",
      "40/40 [==============================] - 0s 1ms/step - loss: 1.9616 - binary_accuracy: 0.8141\n",
      "Epoch 70/100\n",
      "40/40 [==============================] - 0s 1ms/step - loss: 2.0351 - binary_accuracy: 0.7990\n",
      "Epoch 71/100\n",
      "40/40 [==============================] - 0s 932us/step - loss: 1.4472 - binary_accuracy: 0.8467\n",
      "Epoch 72/100\n",
      "40/40 [==============================] - 0s 1ms/step - loss: 1.4183 - binary_accuracy: 0.8518\n",
      "Epoch 73/100\n",
      "40/40 [==============================] - 0s 1ms/step - loss: 1.4490 - binary_accuracy: 0.8492\n",
      "Epoch 74/100\n",
      "40/40 [==============================] - 0s 1ms/step - loss: 2.0104 - binary_accuracy: 0.8342\n",
      "Epoch 75/100\n",
      "40/40 [==============================] - 0s 2ms/step - loss: 1.5797 - binary_accuracy: 0.8317\n",
      "Epoch 76/100\n",
      "40/40 [==============================] - 0s 1ms/step - loss: 1.4552 - binary_accuracy: 0.8593\n",
      "Epoch 77/100\n",
      "40/40 [==============================] - 0s 1ms/step - loss: 1.3876 - binary_accuracy: 0.8593\n",
      "Epoch 78/100\n",
      "40/40 [==============================] - 0s 988us/step - loss: 1.9247 - binary_accuracy: 0.8367\n",
      "Epoch 79/100\n",
      "40/40 [==============================] - 0s 939us/step - loss: 1.4910 - binary_accuracy: 0.8467\n",
      "Epoch 80/100\n",
      "40/40 [==============================] - 0s 951us/step - loss: 1.7518 - binary_accuracy: 0.8166\n",
      "Epoch 81/100\n",
      "40/40 [==============================] - 0s 920us/step - loss: 1.2820 - binary_accuracy: 0.8518\n",
      "Epoch 82/100\n",
      "40/40 [==============================] - 0s 930us/step - loss: 1.5517 - binary_accuracy: 0.8417\n",
      "Epoch 83/100\n",
      "40/40 [==============================] - 0s 869us/step - loss: 1.5219 - binary_accuracy: 0.8643\n",
      "Epoch 84/100\n",
      "40/40 [==============================] - 0s 911us/step - loss: 1.5425 - binary_accuracy: 0.8342\n",
      "Epoch 85/100\n",
      "40/40 [==============================] - 0s 846us/step - loss: 1.7839 - binary_accuracy: 0.8116\n",
      "Epoch 86/100\n",
      "40/40 [==============================] - 0s 837us/step - loss: 1.4773 - binary_accuracy: 0.8141\n",
      "Epoch 87/100\n",
      "40/40 [==============================] - 0s 872us/step - loss: 1.1596 - binary_accuracy: 0.8693\n",
      "Epoch 88/100\n",
      "40/40 [==============================] - 0s 846us/step - loss: 1.3752 - binary_accuracy: 0.8342\n",
      "Epoch 89/100\n",
      "40/40 [==============================] - 0s 1ms/step - loss: 2.1446 - binary_accuracy: 0.8166\n",
      "Epoch 90/100\n",
      "40/40 [==============================] - 0s 949us/step - loss: 1.9676 - binary_accuracy: 0.8367\n",
      "Epoch 91/100\n",
      "40/40 [==============================] - 0s 1ms/step - loss: 1.9085 - binary_accuracy: 0.8342\n",
      "Epoch 92/100\n",
      "40/40 [==============================] - 0s 1ms/step - loss: 2.2013 - binary_accuracy: 0.8090\n",
      "Epoch 93/100\n",
      "40/40 [==============================] - 0s 1ms/step - loss: 1.9364 - binary_accuracy: 0.8040\n",
      "Epoch 94/100\n",
      "40/40 [==============================] - 0s 971us/step - loss: 1.8638 - binary_accuracy: 0.8216\n",
      "Epoch 95/100\n",
      "40/40 [==============================] - 0s 1ms/step - loss: 1.2863 - binary_accuracy: 0.8417\n",
      "Epoch 96/100\n",
      "40/40 [==============================] - 0s 910us/step - loss: 1.6585 - binary_accuracy: 0.8367\n",
      "Epoch 97/100\n",
      "40/40 [==============================] - 0s 919us/step - loss: 2.0707 - binary_accuracy: 0.8266\n",
      "Epoch 98/100\n",
      "40/40 [==============================] - 0s 988us/step - loss: 1.4914 - binary_accuracy: 0.8342\n",
      "Epoch 99/100\n",
      "40/40 [==============================] - 0s 1ms/step - loss: 0.9471 - binary_accuracy: 0.8945\n",
      "Epoch 100/100\n",
      "40/40 [==============================] - 0s 927us/step - loss: 1.6343 - binary_accuracy: 0.8367\n"
     ]
    },
    {
     "data": {
      "text/plain": [
       "<keras.callbacks.History at 0x1647da0e9d0>"
      ]
     },
     "execution_count": 66,
     "metadata": {},
     "output_type": "execute_result"
    }
   ],
   "source": [
    "optimizer = keras.optimizers.Adam(\n",
    "    learning_rate=0.001,\n",
    "    decay=0.0001,\n",
    "    clipvalue=0.5\n",
    ")\n",
    "\n",
    "sequential = Sequential()\n",
    "\n",
    "sequential.add(Dense(units=len_hidden_layer, activation='relu', input_dim=input_dim))\n",
    "sequential.add(Dense(units=len_hidden_layer, activation='relu'))\n",
    "sequential.add(Dense(units = 1, activation='sigmoid'))\n",
    "\n",
    "sequential.compile(optimizer=optimizer, loss='binary_crossentropy', metrics=['binary_accuracy'])\n",
    "\n",
    "sequential.fit(x_train, y_train, batch_size=10, epochs=100, verbose=True)"
   ]
  },
  {
   "cell_type": "code",
   "execution_count": 67,
   "metadata": {},
   "outputs": [
    {
     "name": "stdout",
     "output_type": "stream",
     "text": [
      "6/6 [==============================] - 0s 997us/step\n"
     ]
    }
   ],
   "source": [
    "from sklearn.metrics import confusion_matrix, accuracy_score\n",
    "\n",
    "y_pred = sequential.predict(x_test)\n",
    "# False ou True\n",
    "y_pred = (y_pred > 0.5)"
   ]
  },
  {
   "cell_type": "code",
   "execution_count": 68,
   "metadata": {},
   "outputs": [
    {
     "data": {
      "text/plain": [
       "0.8830409356725146"
      ]
     },
     "execution_count": 68,
     "metadata": {},
     "output_type": "execute_result"
    }
   ],
   "source": [
    "accuracy_score(y_test, y_pred)"
   ]
  }
 ],
 "metadata": {
  "kernelspec": {
   "display_name": ".venv",
   "language": "python",
   "name": "python3"
  },
  "language_info": {
   "codemirror_mode": {
    "name": "ipython",
    "version": 3
   },
   "file_extension": ".py",
   "mimetype": "text/x-python",
   "name": "python",
   "nbconvert_exporter": "python",
   "pygments_lexer": "ipython3",
   "version": "3.11.0"
  },
  "orig_nbformat": 4,
  "vscode": {
   "interpreter": {
    "hash": "2575d859cbe458059a2571d47c2181a1ed63433329998cbd50d4e136a0bc0671"
   }
  }
 },
 "nbformat": 4,
 "nbformat_minor": 2
}
